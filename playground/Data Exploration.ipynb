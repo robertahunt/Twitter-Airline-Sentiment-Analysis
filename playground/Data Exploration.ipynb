{
 "cells": [
  {
   "cell_type": "code",
   "execution_count": 52,
   "metadata": {},
   "outputs": [],
   "source": [
    "import os \n",
    "import re\n",
    "import keras\n",
    "import spacy \n",
    "\n",
    "import numpy as np\n",
    "import pandas as pd\n",
    "import matplotlib.pyplot as plt\n",
    "\n",
    "from keras.models import Sequential\n",
    "from keras.layers import Dense, Dropout, Embedding, LSTM, SpatialDropout1D\n",
    "from keras.callbacks import ModelCheckpoint\n",
    "from keras.preprocessing.text import Tokenizer\n",
    "from keras.preprocessing.sequence import pad_sequences\n",
    "\n",
    "from sklearn.metrics import roc_auc_score\n",
    "from sklearn.model_selection import train_test_split\n",
    "\n",
    "#Based on example here: https://devklaus.wordpress.com/2018/03/11/sentiment-analysis-on-us-twitter-airlines-dataset-a-deep-learning-approach/"
   ]
  },
  {
   "cell_type": "code",
   "execution_count": 53,
   "metadata": {
    "collapsed": true
   },
   "outputs": [],
   "source": [
    "train = pd.read_csv('../data/train.csv',sep=';',index_col=0)\n",
    "val = pd.read_csv('../data/val.csv',sep=';',index_col=0)\n",
    "test = pd.read_csv('../data/test.csv',sep=';',index_col=0)"
   ]
  },
  {
   "cell_type": "code",
   "execution_count": 54,
   "metadata": {
    "collapsed": true
   },
   "outputs": [],
   "source": [
    "df = train.append(val).append(test)"
   ]
  },
  {
   "cell_type": "code",
   "execution_count": 55,
   "metadata": {},
   "outputs": [],
   "source": [
    "tokenizer = Tokenizer()\n",
    "tokenizer.fit_on_texts(df['text'].values)\n",
    "freq = pd.DataFrame([[tok, tokenizer.word_counts[tok]] for tok in tokenizer.word_counts],columns=['token','frequency'])\n",
    "freq = freq.sort_values('frequency',ascending=False)"
   ]
  },
  {
   "cell_type": "code",
   "execution_count": 56,
   "metadata": {},
   "outputs": [
    {
     "data": {
      "image/png": "[encoded data removed]",
      "text/plain": [
       "<matplotlib.figure.Figure at 0x29bdd234a20>"
      ]
     },
     "metadata": {},
     "output_type": "display_data"
    }
   ],
   "source": [
    "import matplotlib.pyplot as plt\n",
    "%matplotlib inline\n",
    "tmp = freq[freq['frequency']> 1].iloc[:50].set_index('token')\n",
    "tmp['frequency'].values,tmp.index.values\n",
    "x = np.arange(len(tmp.index))\n",
    "plt.figure(figsize=(10,5))\n",
    "plt.plot(x,tmp.frequency.values.cumsum()/freq['frequency'].sum())\n",
    "plt.xticks(x, tmp.index.values,rotation=90);"
   ]
  },
  {
   "cell_type": "code",
   "execution_count": 59,
   "metadata": {
    "collapsed": true
   },
   "outputs": [],
   "source": [
    "def get_embeddings(vocab):\n",
    "    max_rank = max(lex.rank for lex in vocab if lex.has_vector)\n",
    "    vectors = numpy.ndarray((max_rank+1, vocab.vectors_length), dtype='float32')\n",
    "    for lex in vocab:\n",
    "        if lex.has_vector:\n",
    "            vectors[lex.rank] = lex.vector\n",
    "    return vectors\n",
    "  \n",
    "nlp = spacy.load('en_core_web_md', parser=False, tagger=False, entity=False)\n",
    "#embeddings = get_embeddings(nlp.vocab)"
   ]
  },
  {
   "cell_type": "code",
   "execution_count": 69,
   "metadata": {},
   "outputs": [
    {
     "data": {
      "text/plain": [
       "spacy.tokens.doc.Doc"
      ]
     },
     "execution_count": 69,
     "metadata": {},
     "output_type": "execute_result"
    }
   ],
   "source": [
    "type(a.doc)"
   ]
  },
  {
   "cell_type": "code",
   "execution_count": 63,
   "metadata": {},
   "outputs": [
    {
     "data": {
      "text/plain": [
       "array([-2.96597499e-02,  4.35637474e-01, -1.30057424e-01,  2.84117520e-01,\n",
       "       -3.65799963e-02, -2.41632480e-02,  3.73749807e-03, -3.71322513e-01,\n",
       "       -4.40390036e-02,  2.11085010e+00, -3.56056184e-01,  4.50950116e-03,\n",
       "        6.92687482e-02, -7.42383003e-02, -2.22717240e-01,  1.01709880e-01,\n",
       "       -2.27713764e-01,  8.79172444e-01, -3.50722522e-02, -1.64292455e-02,\n",
       "       -1.01740502e-01,  7.28560090e-02,  8.70749727e-03,  4.29335758e-02,\n",
       "        7.01475069e-02,  1.59788013e-01, -1.73002005e-01, -1.64387487e-02,\n",
       "       -7.74964988e-02,  3.02484967e-02,  4.75664996e-02,  3.85884255e-01,\n",
       "        9.87424515e-03,  2.26332508e-02, -2.35744998e-01,  9.90923345e-02,\n",
       "       -6.05641231e-02, -2.25162506e-01, -1.16804086e-01, -2.66767502e-01,\n",
       "       -1.55890003e-01,  1.25493988e-01,  5.96125051e-02,  5.14120013e-02,\n",
       "        4.66250256e-03,  2.23567247e-01, -3.15208495e-01,  1.20882757e-01,\n",
       "       -7.75662512e-02, -8.76557454e-02, -1.90288261e-01,  1.03678249e-01,\n",
       "       -1.70940250e-01, -1.91566497e-01, -6.46474957e-02,  1.65224820e-03,\n",
       "       -7.96526074e-02,  2.10630000e-02,  2.31745005e-01, -1.93507507e-01,\n",
       "       -1.37061447e-01,  2.89997533e-02, -7.11812526e-02,  2.83800006e-01,\n",
       "        2.55320251e-01, -3.21870238e-01, -1.06163502e-01, -1.84206501e-01,\n",
       "       -7.45410249e-02,  1.88535005e-01,  4.33947518e-02, -5.08742519e-02,\n",
       "        1.65886253e-01, -1.20430000e-01,  6.48999885e-02,  7.79215023e-02,\n",
       "        1.82511002e-01,  8.12074989e-02, -2.99504966e-01,  4.09604996e-01,\n",
       "        9.96019989e-02,  8.00163224e-02, -3.30437750e-01,  2.16912493e-01,\n",
       "        3.66325021e-01, -1.67985514e-01,  3.65457535e-02, -3.26900005e-01,\n",
       "        4.04965013e-01, -2.55516499e-01, -1.57779440e-01,  1.19835421e-01,\n",
       "       -1.38642505e-01,  1.25805736e-01,  1.34824961e-03,  2.62823761e-01,\n",
       "       -1.18585512e-01,  8.51834938e-02,  2.74468750e-01,  1.43900007e-01,\n",
       "        1.03544965e-02, -2.62475014e-01, -5.57459965e-02, -3.87024991e-02,\n",
       "        8.89852494e-02, -4.71291482e-01,  1.31382257e-01, -4.71637547e-02,\n",
       "        1.37452446e-02, -2.66299993e-02, -1.12394646e-01, -2.82923996e-01,\n",
       "        2.72112489e-01,  1.42963007e-01, -2.30715260e-01,  6.89031929e-02,\n",
       "       -1.65707499e-01,  9.84324962e-02,  4.57174927e-02,  1.63950026e-03,\n",
       "       -8.94022584e-02, -1.28664076e-01,  1.10538498e-01, -9.16624963e-02,\n",
       "        1.05795749e-01,  3.60137522e-02, -3.19137514e-01, -2.50251532e-01,\n",
       "       -6.76667467e-02, -3.71642485e-02, -1.36340499e-01, -2.44241744e-01,\n",
       "       -1.72636747e-01,  1.49935678e-01,  1.82489976e-02, -2.43156776e-01,\n",
       "       -6.82167411e-02,  6.84389994e-02, -6.62777498e-02, -7.23240003e-02,\n",
       "       -1.62773991e+00,  1.18677251e-01,  1.68650001e-02,  1.61814272e-01,\n",
       "       -8.45474973e-02, -2.38291994e-01, -1.21921003e-01,  4.36512493e-02,\n",
       "        3.13799977e-02,  1.41485989e-01,  1.62343740e-01,  1.50191993e-01,\n",
       "        9.44000036e-02, -2.05490012e-02,  1.38273448e-01,  5.94037510e-02,\n",
       "       -2.41230011e-01, -2.16932744e-01, -8.07100087e-02, -2.54390001e-01,\n",
       "       -8.46609995e-02,  4.32237461e-02, -4.69505005e-02, -3.42517649e-03,\n",
       "       -3.13854337e-01, -1.69122010e-01,  1.83732510e-02,  1.64532200e-01,\n",
       "        1.95845887e-01, -1.18749999e-01, -8.54570046e-02, -1.37373000e-01,\n",
       "        2.98792481e-01, -1.76220000e-01, -1.76852003e-01,  1.50780261e-01,\n",
       "        2.43345015e-02, -2.12168008e-01,  6.73635006e-02,  1.21142492e-01,\n",
       "       -9.65605080e-02, -6.50399923e-02,  8.24600011e-02, -8.46434981e-02,\n",
       "        1.58357501e-01, -1.33462995e-01, -3.20364982e-01,  2.29616258e-02,\n",
       "       -4.79203723e-02, -5.46554998e-02, -9.16074961e-02, -1.62220240e-01,\n",
       "       -3.79547477e-01,  9.45899934e-02,  2.45322734e-01,  2.28102505e-01,\n",
       "        8.59437510e-02, -2.33231753e-01,  1.39660239e-01,  2.38174871e-02,\n",
       "       -1.77793995e-01, -1.53692275e-01, -2.71210521e-01,  7.51814991e-02,\n",
       "        2.24506751e-01,  4.58612517e-02,  5.03780022e-02,  3.50432247e-02,\n",
       "        5.24339974e-02, -1.15075245e-01, -5.88827580e-02, -1.39667749e-01,\n",
       "        1.13600753e-01, -1.16717502e-01, -1.75770998e-01,  3.74452472e-01,\n",
       "        1.16809994e-01, -1.14687502e-01, -2.72447497e-01, -4.68574949e-02,\n",
       "       -3.62840034e-02, -1.45374745e-01, -1.41322494e-01,  1.44637495e-01,\n",
       "       -8.30375031e-02, -3.13137501e-01,  5.55007532e-02,  1.88044995e-01,\n",
       "       -4.41332497e-02, -1.22165747e-01, -1.44869551e-01,  1.54530004e-01,\n",
       "       -4.83712554e-02,  1.81390256e-01, -1.64811298e-01, -1.80656120e-01,\n",
       "       -5.87631278e-02, -4.93902452e-02, -1.01612508e-01,  3.08489501e-01,\n",
       "       -2.32475251e-03, -7.46254995e-02,  9.74330008e-02,  1.21527508e-01,\n",
       "        2.42153496e-01, -2.35020250e-01,  8.83430019e-02, -1.03427500e-01,\n",
       "       -3.61999981e-02,  7.73844942e-02,  1.10007515e-02, -2.07473770e-01,\n",
       "       -3.53475064e-02, -7.09527507e-02,  2.75269970e-02,  8.28672498e-02,\n",
       "        9.21450034e-02, -8.57560039e-02,  8.92374665e-03, -8.75144899e-02,\n",
       "        9.99819860e-02,  4.32884991e-02,  1.15668751e-01, -2.17132509e-01,\n",
       "        1.20319754e-01,  6.84069991e-02,  3.20954993e-02,  2.83073992e-01,\n",
       "        4.65124995e-01, -1.22435473e-01,  1.26781747e-01,  7.28324987e-03,\n",
       "       -2.29196519e-01, -1.60039991e-01, -5.51082492e-02, -5.34529984e-02,\n",
       "       -4.67524910e-03,  1.25389975e-02,  1.17372505e-01,  2.13257760e-01,\n",
       "        1.36408553e-01,  4.96810004e-02, -1.75922252e-02, -1.68905005e-01,\n",
       "       -1.39988348e-01, -1.87319994e-01,  2.33664006e-01,  9.00487527e-02,\n",
       "        1.04240492e-01, -2.26329938e-02, -1.62754990e-02,  4.23690230e-02,\n",
       "        2.26423502e-01,  7.68147483e-02,  2.88424999e-01, -5.39025068e-02,\n",
       "       -1.97480008e-01, -3.77199985e-02, -2.62837499e-01,  1.75231501e-01],\n",
       "      dtype=float32)"
      ]
     },
     "execution_count": 63,
     "metadata": {},
     "output_type": "execute_result"
    }
   ],
   "source": [
    "a = nlp('This is my tweet')\n",
    "a."
   ]
  },
  {
   "cell_type": "code",
   "execution_count": 58,
   "metadata": {
    "collapsed": true
   },
   "outputs": [],
   "source": [
    "\n",
    "max_features = 2000\n",
    "tokenizer = Tokenizer(num_words=max_features, split=' ')\n",
    "tokenizer.fit_on_texts(train['text'].values.tolist() + val['text'].values.tolist() + test['text'].values.tolist())\n",
    "\n",
    "\n",
    "X = tokenizer.texts_to_sequences(train['text'].values.tolist() + val['text'].values.tolist() + test['text'].values.tolist())\n",
    "X = pad_sequences(X)\n",
    "Xtrain = X[:len(train)]\n",
    "Xval = X[len(train):len(train)+len(val)]\n",
    "Xtest = X[len(train)+len(val):]"
   ]
  },
  {
   "cell_type": "code",
   "execution_count": 55,
   "metadata": {},
   "outputs": [
    {
     "data": {
      "text/plain": [
       "\"@SouthwestAir you're my early frontrunner for best airline! #oscars2016\""
      ]
     },
     "execution_count": 55,
     "metadata": {},
     "output_type": "execute_result"
    }
   ],
   "source": [
    "(train['text'].values.tolist() + val['text'].values.tolist() + test['text'].values.tolist())"
   ]
  },
  {
   "cell_type": "code",
   "execution_count": 59,
   "metadata": {},
   "outputs": [
    {
     "name": "stdout",
     "output_type": "stream",
     "text": [
      "_________________________________________________________________\n",
      "Layer (type)                 Output Shape              Param #   \n",
      "=================================================================\n",
      "embedding_9 (Embedding)      (None, 33, 128)           256000    \n",
      "_________________________________________________________________\n",
      "dropout_9 (Dropout)          (None, 33, 128)           0         \n",
      "_________________________________________________________________\n",
      "lstm_9 (LSTM)                (None, 196)               254800    \n",
      "_________________________________________________________________\n",
      "dense_9 (Dense)              (None, 3)                 591       \n",
      "=================================================================\n",
      "Total params: 511,391\n",
      "Trainable params: 511,391\n",
      "Non-trainable params: 0\n",
      "_________________________________________________________________\n",
      "None\n"
     ]
    }
   ],
   "source": [
    "embed_dim = 128\n",
    "lstm_out = 196\n",
    "\n",
    "model = Sequential()\n",
    "model.add(Embedding(max_features, embed_dim,input_length = Xtrain.shape[1]))\n",
    "model.add(Dropout(0.5))\n",
    "model.add(LSTM(lstm_out, dropout=0.2, recurrent_dropout=0.2))\n",
    "model.add(Dense(3,activation='softmax'))\n",
    "model.compile(loss = 'categorical_crossentropy', optimizer='adam',metrics = ['accuracy'])\n",
    "print(model.summary())"
   ]
  },
  {
   "cell_type": "code",
   "execution_count": 60,
   "metadata": {},
   "outputs": [
    {
     "name": "stdout",
     "output_type": "stream",
     "text": [
      "(10000, 33) (10000, 3)\n",
      "(2000, 33) (2000, 3)\n",
      "(2640, 33) (2640, 3)\n"
     ]
    }
   ],
   "source": [
    "ytrain = pd.get_dummies(train['sentiment']).values\n",
    "yval = pd.get_dummies(val['sentiment']).values\n",
    "ytest = pd.get_dummies(test['sentiment']).values\n",
    "print(Xtrain.shape,ytrain.shape)\n",
    "print(Xval.shape,yval.shape)\n",
    "print(Xtest.shape,ytest.shape)"
   ]
  },
  {
   "cell_type": "code",
   "execution_count": 62,
   "metadata": {},
   "outputs": [
    {
     "name": "stdout",
     "output_type": "stream",
     "text": [
      "Train on 10000 samples, validate on 2000 samples\n",
      "Epoch 1/10\n",
      "10000/10000 [==============================] - 18s 2ms/step - loss: 0.3375 - acc: 0.8700 - val_loss: 0.5758 - val_acc: 0.7855\n",
      "Epoch 2/10\n",
      "10000/10000 [==============================] - 18s 2ms/step - loss: 0.3274 - acc: 0.8699 - val_loss: 0.6019 - val_acc: 0.7855\n",
      "Epoch 3/10\n",
      "10000/10000 [==============================] - 18s 2ms/step - loss: 0.3189 - acc: 0.8760 - val_loss: 0.6187 - val_acc: 0.7875\n",
      "Epoch 4/10\n",
      "10000/10000 [==============================] - 18s 2ms/step - loss: 0.3128 - acc: 0.8778 - val_loss: 0.6223 - val_acc: 0.7820\n",
      "Epoch 5/10\n",
      "10000/10000 [==============================] - 18s 2ms/step - loss: 0.2994 - acc: 0.8844 - val_loss: 0.6364 - val_acc: 0.7785\n",
      "Epoch 6/10\n",
      "10000/10000 [==============================] - 18s 2ms/step - loss: 0.2926 - acc: 0.8831 - val_loss: 0.6303 - val_acc: 0.7795\n",
      "Epoch 7/10\n",
      "10000/10000 [==============================] - 18s 2ms/step - loss: 0.2868 - acc: 0.8906 - val_loss: 0.6365 - val_acc: 0.7765\n",
      "Epoch 8/10\n",
      "10000/10000 [==============================] - 18s 2ms/step - loss: 0.2813 - acc: 0.8855 - val_loss: 0.6652 - val_acc: 0.7760\n",
      "Epoch 9/10\n",
      "10000/10000 [==============================] - 18s 2ms/step - loss: 0.2721 - acc: 0.8942 - val_loss: 0.7011 - val_acc: 0.7780\n",
      "Epoch 10/10\n",
      "10000/10000 [==============================] - 18s 2ms/step - loss: 0.2756 - acc: 0.8893 - val_loss: 0.6905 - val_acc: 0.7800\n"
     ]
    }
   ],
   "source": [
    "batch_size = 512\n",
    "history = model.fit(Xtrain, ytrain, epochs = 10, batch_size=batch_size, validation_data=(Xval, yval))"
   ]
  },
  {
   "cell_type": "code",
   "execution_count": 23,
   "metadata": {},
   "outputs": [
    {
     "data": {
      "text/plain": [
       "array([], shape=(10000, 0), dtype=int32)"
      ]
     },
     "execution_count": 23,
     "metadata": {},
     "output_type": "execute_result"
    }
   ],
   "source": [
    "Xtrain"
   ]
  },
  {
   "cell_type": "code",
   "execution_count": null,
   "metadata": {
    "collapsed": true
   },
   "outputs": [],
   "source": []
  }
 ],
 "metadata": {
  "kernelspec": {
   "display_name": "Python 3",
   "language": "python",
   "name": "python3"
  },
  "language_info": {
   "codemirror_mode": {
    "name": "ipython",
    "version": 3
   },
   "file_extension": ".py",
   "mimetype": "text/x-python",
   "name": "python",
   "nbconvert_exporter": "python",
   "pygments_lexer": "ipython3",
   "version": "3.6.1"
  }
 },
 "nbformat": 4,
 "nbformat_minor": 2
}
