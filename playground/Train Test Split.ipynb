{
 "cells": [
  {
   "cell_type": "code",
   "execution_count": 1,
   "metadata": {
    "collapsed": true
   },
   "outputs": [],
   "source": [
    "import os\n",
    "import imp\n",
    "import numpy as np\n",
    "import pandas as pd\n",
    "import matplotlib.pyplot as plt\n",
    "%matplotlib inline\n",
    "\n",
    "constants = imp.load_source('constants', '../src/constants.py')\n",
    "nTrain = constants.nTrain\n",
    "nVal = constants.nVal\n",
    "nTest = constants.nTest\n",
    "DATAPATH = '../data/'\n",
    "df = pd.read_csv(os.path.join(DATAPATH,'Tweets-airline-sentiment.csv'),sep=',')"
   ]
  },
  {
   "cell_type": "code",
   "execution_count": 4,
   "metadata": {
    "collapsed": true
   },
   "outputs": [],
   "source": [
    "sent_map = pd.Series([1,0,-1],index=['positive','neutral','negative'])\n",
    "df['sentiment'] = df['airline_sentiment'].map(sent_map)"
   ]
  },
  {
   "cell_type": "code",
   "execution_count": 3,
   "metadata": {},
   "outputs": [
    {
     "name": "stdout",
     "output_type": "stream",
     "text": [
      "9178 3099 2363\n"
     ]
    }
   ],
   "source": [
    "print(len(df[df['sentiment'] == -1]),len(df[df['sentiment'] == 0]),len(df[df['sentiment'] == 1]))"
   ]
  },
  {
   "cell_type": "code",
   "execution_count": 4,
   "metadata": {
    "collapsed": true
   },
   "outputs": [],
   "source": [
    "#Get random indices for train, validation and test\n",
    "\n",
    "np.random.seed(42)\n",
    "randomized_pos = np.random.permutation(df[df['sentiment']==1].index)[:2363]\n",
    "randomized_neu = np.random.permutation(df[df['sentiment']==0].index)[:2363]\n",
    "randomized_neg = np.random.permutation(df[df['sentiment']==-1].index)[:2363]\n",
    "df = df.loc[randomized_pos].append(df.loc[randomized_neu]).append(df.loc[randomized_neg])"
   ]
  },
  {
   "cell_type": "code",
   "execution_count": 5,
   "metadata": {
    "collapsed": true
   },
   "outputs": [],
   "source": [
    "ntweets = len(df)\n",
    "randomized = np.random.permutation(df.index)\n",
    "train_ix, val_ix, test_ix = randomized[:nTrain],randomized[nTrain:(nTrain+nVal)],randomized[(nTrain+nVal):]\n",
    "out_columns = ['sentiment','text']\n",
    "df.loc[train_ix,out_columns].to_csv('../data/train.csv',sep=';',encoding='utf-8')\n",
    "df.loc[val_ix,out_columns].to_csv('../data/val.csv',sep=';',encoding='utf-8')\n",
    "df.loc[test_ix,out_columns].to_csv('../data/test.csv',sep=';',encoding='utf-8')"
   ]
  },
  {
   "cell_type": "code",
   "execution_count": 2,
   "metadata": {
    "collapsed": true
   },
   "outputs": [],
   "source": [
    "train = pd.read_csv('../data/train.csv',sep=';',index_col=0)\n",
    "val = pd.read_csv('../data/val.csv',sep=';',index_col=0)\n",
    "test = pd.read_csv('../data/test.csv',sep=';',index_col=0)"
   ]
  },
  {
   "cell_type": "code",
   "execution_count": 7,
   "metadata": {},
   "outputs": [
    {
     "data": {
      "image/png": "[encoded data removed]",
      "text/plain": [
       "<matplotlib.figure.Figure at 0x20f18fb37b8>"
      ]
     },
     "metadata": {},
     "output_type": "display_data"
    }
   ],
   "source": [
    "#Let's look at the histograms to make sure the distributions still match\n",
    "offset = 0.2\n",
    "temp_hist = df.loc[train.index,'sentiment'].value_counts()/len(df.loc[train.index])\n",
    "plt.bar(temp_hist.index-offset,temp_hist.values, align='center',width=0.2,color='r',alpha=0.5,label='train')\n",
    "temp_hist = df.loc[val.index,'sentiment'].value_counts()/len(df.loc[val.index])\n",
    "plt.bar(temp_hist.index,temp_hist.values, align='center',width=0.2,color='b',alpha=0.5,hatch='/',label='val')\n",
    "temp_hist = df.loc[test.index,'sentiment'].value_counts()/len(df.loc[test.index])\n",
    "plt.bar(temp_hist.index+offset,temp_hist.values, align='center',width=0.2,color='g',alpha=0.5,hatch='+',label='test')\n",
    "plt.legend()\n",
    "plt.ylabel('Normalized Frequency')\n",
    "plt.xlabel('Sentiment')\n",
    "plt.xticks([-1,0,1],['negative','neutral','positive'])\n",
    "plt.savefig('../images/train_test_dist.png')"
   ]
  },
  {
   "cell_type": "code",
   "execution_count": null,
   "metadata": {
    "collapsed": true
   },
   "outputs": [],
   "source": []
  }
 ],
 "metadata": {
  "kernelspec": {
   "display_name": "Python 3",
   "language": "python",
   "name": "python3"
  },
  "language_info": {
   "codemirror_mode": {
    "name": "ipython",
    "version": 3
   },
   "file_extension": ".py",
   "mimetype": "text/x-python",
   "name": "python",
   "nbconvert_exporter": "python",
   "pygments_lexer": "ipython3",
   "version": "3.6.1"
  }
 },
 "nbformat": 4,
 "nbformat_minor": 2
}
