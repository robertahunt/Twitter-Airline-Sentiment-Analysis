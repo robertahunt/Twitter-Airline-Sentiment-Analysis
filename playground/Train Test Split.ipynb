{
 "cells": [
  {
   "cell_type": "code",
   "execution_count": 49,
   "metadata": {},
   "outputs": [],
   "source": [
    "import os\n",
    "import imp\n",
    "import numpy as np\n",
    "import pandas as pd\n",
    "import matplotlib.pyplot as plt\n",
    "%matplotlib inline\n",
    "\n",
    "constants = imp.load_source('constants', '../src/constants.py')\n",
    "nTrain = constants.nTrain\n",
    "nVal = constants.nVal\n",
    "nTest = constants.nTest\n",
    "\n",
    "df = pd.read_csv(os.path.join(DATAPATH,'Tweets-airline-sentiment.csv'),sep=',')"
   ]
  },
  {
   "cell_type": "code",
   "execution_count": 50,
   "metadata": {},
   "outputs": [],
   "source": [
    "sent_map = pd.Series([1,0,-1],index=['positive','neutral','negative'])\n",
    "df['sentiment'] = df['airline_sentiment'].map(sent_map)"
   ]
  },
  {
   "cell_type": "code",
   "execution_count": 51,
   "metadata": {},
   "outputs": [],
   "source": [
    "#Get random indices for train, validation and test\n",
    "ntweets = len(df)\n",
    "np.random.seed(42)\n",
    "randomized = np.random.permutation(range(ntweets))\n",
    "train, val, test = randomized[:nTrain],randomized[nTrain:(nTrain+nVal)],randomized[(nTrain+nVal):]\n",
    "out_columns = ['sentiment','text']\n",
    "df.loc[train,out_columns].to_csv('../data/train.csv',sep=';')\n",
    "df.loc[val,out_columns].to_csv('../data/val.csv',sep=';')\n",
    "df.loc[test,out_columns].to_csv('../data/test.csv',sep=';')"
   ]
  },
  {
   "cell_type": "code",
   "execution_count": 91,
   "metadata": {},
   "outputs": [
    {
     "data": {
      "image/png": "[encoded data removed]",
      "text/plain": [
       "<Figure size 432x288 with 1 Axes>"
      ]
     },
     "metadata": {},
     "output_type": "display_data"
    }
   ],
   "source": [
    "#Let's look at the histograms to make sure the distributions still match\n",
    "offset = 0.2\n",
    "temp_hist = df.loc[train,'sentiment'].value_counts()/len(df.loc[train])\n",
    "plt.bar(temp_hist.index-offset,temp_hist.values, align='center',width=0.2,color='r',alpha=0.5,label='train')\n",
    "temp_hist = df.loc[val,'sentiment'].value_counts()/len(df.loc[val])\n",
    "plt.bar(temp_hist.index,temp_hist.values, align='center',width=0.2,color='b',alpha=0.5,hatch='/',label='val')\n",
    "temp_hist = df.loc[test,'sentiment'].value_counts()/len(df.loc[test])\n",
    "plt.bar(temp_hist.index+offset,temp_hist.values, align='center',width=0.2,color='g',alpha=0.5,hatch='+',label='test')\n",
    "plt.legend()\n",
    "plt.ylabel('Normalized Frequency')\n",
    "plt.xlabel('Sentiment')\n",
    "plt.savefig('../images/train_test_dist.png')"
   ]
  },
  {
   "cell_type": "code",
   "execution_count": null,
   "metadata": {},
   "outputs": [],
   "source": []
  }
 ],
 "metadata": {
  "kernelspec": {
   "display_name": "Python 3",
   "language": "python",
   "name": "python3"
  },
  "language_info": {
   "codemirror_mode": {
    "name": "ipython",
    "version": 3
   },
   "file_extension": ".py",
   "mimetype": "text/x-python",
   "name": "python",
   "nbconvert_exporter": "python",
   "pygments_lexer": "ipython3",
   "version": "3.5.3"
  }
 },
 "nbformat": 4,
 "nbformat_minor": 2
}
