{
 "cells": [
  {
   "cell_type": "code",
   "execution_count": 1,
   "metadata": {
    "collapsed": true
   },
   "outputs": [],
   "source": [
    "import os\n",
    "import imp\n",
    "import numpy as np\n",
    "import pandas as pd\n",
    "import matplotlib.pyplot as plt\n",
    "\n",
    "\n",
    "constants = imp.load_source('constants', '../src/constants.py')\n",
    "nTrain = constants.nTrain\n",
    "nVal = constants.nVal\n",
    "nTest = constants.nTest\n",
    "\n",
    "%matplotlib inline"
   ]
  },
  {
   "cell_type": "code",
   "execution_count": 22,
   "metadata": {
    "collapsed": true
   },
   "outputs": [],
   "source": [
    "Xtrain = np.load('../data/features/openai_train.npz')['arr_0'].reshape(-1,1)\n",
    "Xval = np.load('../data/features/openai_val.npz')['arr_0'].reshape(-1,1)\n",
    "Xtest = np.load('../data/features/openai_test.npz')['arr_0'].reshape(-1,1)"
   ]
  },
  {
   "cell_type": "code",
   "execution_count": 4,
   "metadata": {},
   "outputs": [],
   "source": [
    "old_train = pd.read_csv('../data/old_train_test/train.csv',sep=';',index_col=0)\n",
    "old_val = pd.read_csv('../data/old_train_test/val.csv',sep=';',index_col=0)\n",
    "old_test = pd.read_csv('../data/old_train_test/test.csv',sep=';',index_col=0)\n",
    "train = pd.read_csv('../data/train.csv',sep=';',index_col=0)\n",
    "val = pd.read_csv('../data/val.csv',sep=';',index_col=0)\n",
    "test = pd.read_csv('../data/test.csv',sep=';',index_col=0)\n",
    "\n",
    "ytrain = train['sentiment'].values\n",
    "yval = val['sentiment'].values\n",
    "ytest = test['sentiment'].values"
   ]
  },
  {
   "cell_type": "code",
   "execution_count": 13,
   "metadata": {},
   "outputs": [],
   "source": [
    "old_train['openai'] = Xtrain\n",
    "old_val['openai'] = Xval\n",
    "old_test['openai'] = Xtest"
   ]
  },
  {
   "cell_type": "code",
   "execution_count": 15,
   "metadata": {},
   "outputs": [],
   "source": [
    "df = old_train.append(old_val).append(old_test)\n",
    "train['openai'] = df['openai']\n",
    "val['openai'] = df['openai']\n",
    "test['openai'] = df['openai']"
   ]
  },
  {
   "cell_type": "code",
   "execution_count": 18,
   "metadata": {
    "collapsed": true
   },
   "outputs": [],
   "source": [
    "np.savez_compressed(open('../data/features/openai_train.npz','wb'),train['openai'].values)\n",
    "np.savez_compressed(open('../data/features/openai_val.npz','wb'),val['openai'].values)\n",
    "np.savez_compressed(open('../data/features/openai_test.npz','wb'),test['openai'].values)"
   ]
  },
  {
   "cell_type": "code",
   "execution_count": 23,
   "metadata": {
    "collapsed": true
   },
   "outputs": [],
   "source": [
    "from sklearn.linear_model import LogisticRegressionCV\n",
    "classifier = LogisticRegressionCV()"
   ]
  },
  {
   "cell_type": "code",
   "execution_count": 22,
   "metadata": {
    "collapsed": true
   },
   "outputs": [],
   "source": [
    "pd.crosstab?"
   ]
  },
  {
   "cell_type": "code",
   "execution_count": 28,
   "metadata": {},
   "outputs": [
    {
     "data": {
      "text/plain": [
       "0.668"
      ]
     },
     "execution_count": 28,
     "metadata": {},
     "output_type": "execute_result"
    }
   ],
   "source": [
    "classifier.fit(Xtrain,ytrain)\n",
    "ypreds = classifier.predict(Xval)\n",
    "np.mean(ypreds == yval)"
   ]
  },
  {
   "cell_type": "code",
   "execution_count": 24,
   "metadata": {},
   "outputs": [
    {
     "data": {
      "text/html": [
       "<div>\n",
       "<style>\n",
       "    .dataframe thead tr:only-child th {\n",
       "        text-align: right;\n",
       "    }\n",
       "\n",
       "    .dataframe thead th {\n",
       "        text-align: left;\n",
       "    }\n",
       "\n",
       "    .dataframe tbody tr th {\n",
       "        vertical-align: top;\n",
       "    }\n",
       "</style>\n",
       "<table border=\"1\" class=\"dataframe\">\n",
       "  <thead>\n",
       "    <tr style=\"text-align: right;\">\n",
       "      <th>actual</th>\n",
       "      <th>-1</th>\n",
       "      <th>0</th>\n",
       "      <th>1</th>\n",
       "    </tr>\n",
       "    <tr>\n",
       "      <th>pred</th>\n",
       "      <th></th>\n",
       "      <th></th>\n",
       "      <th></th>\n",
       "    </tr>\n",
       "  </thead>\n",
       "  <tbody>\n",
       "    <tr>\n",
       "      <th>-1</th>\n",
       "      <td>246</td>\n",
       "      <td>119</td>\n",
       "      <td>14</td>\n",
       "    </tr>\n",
       "    <tr>\n",
       "      <th>0</th>\n",
       "      <td>61</td>\n",
       "      <td>123</td>\n",
       "      <td>44</td>\n",
       "    </tr>\n",
       "    <tr>\n",
       "      <th>1</th>\n",
       "      <td>22</td>\n",
       "      <td>82</td>\n",
       "      <td>289</td>\n",
       "    </tr>\n",
       "  </tbody>\n",
       "</table>\n",
       "</div>"
      ],
      "text/plain": [
       "actual   -1    0    1\n",
       "pred                 \n",
       "-1      246  119   14\n",
       " 0       61  123   44\n",
       " 1       22   82  289"
      ]
     },
     "execution_count": 24,
     "metadata": {},
     "output_type": "execute_result"
    }
   ],
   "source": [
    "ypreds\n",
    "a = pd.DataFrame(np.array([ypreds,yval]).T,columns=['pred','actual'])\n",
    "pd.crosstab(a['pred'],a['actual'])"
   ]
  },
  {
   "cell_type": "code",
   "execution_count": 33,
   "metadata": {},
   "outputs": [
    {
     "data": {
      "text/plain": [
       "<matplotlib.legend.Legend at 0x2a603582198>"
      ]
     },
     "execution_count": 33,
     "metadata": {},
     "output_type": "execute_result"
    },
    {
     "data": {
      "image/png": "[encoded data removed]",
      "text/plain": [
       "<matplotlib.figure.Figure at 0x2a6034f6198>"
      ]
     },
     "metadata": {},
     "output_type": "display_data"
    }
   ],
   "source": [
    "pd.Series(Xtrain[ytrain == -1].flatten()).hist(alpha=0.4,bins=20, label='negative')\n",
    "pd.Series(Xtrain[ytrain == 0].flatten()).hist(alpha=0.4,bins=20, label='neutral')\n",
    "pd.Series(Xtrain[ytrain == 1].flatten()).hist(alpha=0.4,bins=20, label='positive')\n",
    "plt.xlabel(\"Sentiment Unit's Value\")\n",
    "plt.ylabel('Frequency')\n",
    "plt.legend()"
   ]
  },
  {
   "cell_type": "code",
   "execution_count": 26,
   "metadata": {},
   "outputs": [
    {
     "data": {
      "text/plain": [
       "(array([0.74772036, 0.37962963, 0.83285303]),\n",
       " array([0.64907652, 0.53947368, 0.73536896]),\n",
       " array([0.69491525, 0.44565217, 0.78108108]),\n",
       " array([379, 228, 393], dtype=int64))"
      ]
     },
     "execution_count": 26,
     "metadata": {},
     "output_type": "execute_result"
    }
   ],
   "source": [
    "from sklearn.metrics import precision_recall_fscore_support\n",
    "precision_recall_fscore_support(classifier.predict(Xval), yval)"
   ]
  },
  {
   "cell_type": "code",
   "execution_count": 27,
   "metadata": {},
   "outputs": [
    {
     "data": {
      "text/plain": [
       "0.6706"
      ]
     },
     "execution_count": 27,
     "metadata": {},
     "output_type": "execute_result"
    }
   ],
   "source": [
    "from sklearn.svm import SVC\n",
    "classifier = SVC()\n",
    "classifier.fit(Xtrain,ytrain)\n",
    "np.mean(classifier.predict(Xtrain) == ytrain)"
   ]
  },
  {
   "cell_type": "code",
   "execution_count": null,
   "metadata": {
    "collapsed": true
   },
   "outputs": [],
   "source": []
  }
 ],
 "metadata": {
  "kernelspec": {
   "display_name": "Python 3",
   "language": "python",
   "name": "python3"
  },
  "language_info": {
   "codemirror_mode": {
    "name": "ipython",
    "version": 3
   },
   "file_extension": ".py",
   "mimetype": "text/x-python",
   "name": "python",
   "nbconvert_exporter": "python",
   "pygments_lexer": "ipython3",
   "version": "3.6.1"
  }
 },
 "nbformat": 4,
 "nbformat_minor": 2
}
