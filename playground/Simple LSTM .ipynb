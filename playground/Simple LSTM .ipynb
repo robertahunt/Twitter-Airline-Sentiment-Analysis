{
 "cells": [
  {
   "cell_type": "code",
   "execution_count": 1,
   "metadata": {},
   "outputs": [
    {
     "name": "stderr",
     "output_type": "stream",
     "text": [
      "Using TensorFlow backend.\n"
     ]
    }
   ],
   "source": [
    "import os \n",
    "import re\n",
    "import keras\n",
    "\n",
    "import numpy as np\n",
    "import pandas as pd\n",
    "import matplotlib.pyplot as plt\n",
    "\n",
    "from keras.models import Sequential\n",
    "from keras.layers import Dense, Dropout, Embedding, LSTM, SpatialDropout1D\n",
    "from keras.callbacks import ModelCheckpoint\n",
    "from keras.preprocessing.text import Tokenizer\n",
    "from keras.preprocessing.sequence import pad_sequences\n",
    "\n",
    "from sklearn.metrics import roc_auc_score\n",
    "from sklearn.model_selection import train_test_split\n",
    "\n",
    "#Based on example here: https://devklaus.wordpress.com/2018/03/11/sentiment-analysis-on-us-twitter-airlines-dataset-a-deep-learning-approach/"
   ]
  },
  {
   "cell_type": "code",
   "execution_count": 2,
   "metadata": {},
   "outputs": [],
   "source": [
    "train = pd.read_csv('../data/train.csv',sep=';',index_col=0)\n",
    "val = pd.read_csv('../data/val.csv',sep=';',index_col=0)\n",
    "test = pd.read_csv('../data/test.csv',sep=';',index_col=0)"
   ]
  },
  {
   "cell_type": "code",
   "execution_count": 3,
   "metadata": {},
   "outputs": [
    {
     "ename": "NameError",
     "evalue": "name 'Xtrain' is not defined",
     "output_type": "error",
     "traceback": [
      "\u001b[0;31m---------------------------------------------------------------------------\u001b[0m",
      "\u001b[0;31mNameError\u001b[0m                                 Traceback (most recent call last)",
      "\u001b[0;32m<ipython-input-3-279ffbb8f37b>\u001b[0m in \u001b[0;36m<module>\u001b[0;34m()\u001b[0m\n\u001b[1;32m      2\u001b[0m \u001b[0myval\u001b[0m \u001b[0;34m=\u001b[0m \u001b[0mpd\u001b[0m\u001b[0;34m.\u001b[0m\u001b[0mget_dummies\u001b[0m\u001b[0;34m(\u001b[0m\u001b[0mval\u001b[0m\u001b[0;34m[\u001b[0m\u001b[0;34m'sentiment'\u001b[0m\u001b[0;34m]\u001b[0m\u001b[0;34m)\u001b[0m\u001b[0;34m.\u001b[0m\u001b[0mvalues\u001b[0m\u001b[0;34m\u001b[0m\u001b[0m\n\u001b[1;32m      3\u001b[0m \u001b[0mytest\u001b[0m \u001b[0;34m=\u001b[0m \u001b[0mpd\u001b[0m\u001b[0;34m.\u001b[0m\u001b[0mget_dummies\u001b[0m\u001b[0;34m(\u001b[0m\u001b[0mtest\u001b[0m\u001b[0;34m[\u001b[0m\u001b[0;34m'sentiment'\u001b[0m\u001b[0;34m]\u001b[0m\u001b[0;34m)\u001b[0m\u001b[0;34m.\u001b[0m\u001b[0mvalues\u001b[0m\u001b[0;34m\u001b[0m\u001b[0m\n\u001b[0;32m----> 4\u001b[0;31m \u001b[0mprint\u001b[0m\u001b[0;34m(\u001b[0m\u001b[0mXtrain\u001b[0m\u001b[0;34m.\u001b[0m\u001b[0mshape\u001b[0m\u001b[0;34m,\u001b[0m\u001b[0mytrain\u001b[0m\u001b[0;34m.\u001b[0m\u001b[0mshape\u001b[0m\u001b[0;34m)\u001b[0m\u001b[0;34m\u001b[0m\u001b[0m\n\u001b[0m\u001b[1;32m      5\u001b[0m \u001b[0mprint\u001b[0m\u001b[0;34m(\u001b[0m\u001b[0mXval\u001b[0m\u001b[0;34m.\u001b[0m\u001b[0mshape\u001b[0m\u001b[0;34m,\u001b[0m\u001b[0myval\u001b[0m\u001b[0;34m.\u001b[0m\u001b[0mshape\u001b[0m\u001b[0;34m)\u001b[0m\u001b[0;34m\u001b[0m\u001b[0m\n\u001b[1;32m      6\u001b[0m \u001b[0mprint\u001b[0m\u001b[0;34m(\u001b[0m\u001b[0mXtest\u001b[0m\u001b[0;34m.\u001b[0m\u001b[0mshape\u001b[0m\u001b[0;34m,\u001b[0m\u001b[0mytest\u001b[0m\u001b[0;34m.\u001b[0m\u001b[0mshape\u001b[0m\u001b[0;34m)\u001b[0m\u001b[0;34m\u001b[0m\u001b[0m\n",
      "\u001b[0;31mNameError\u001b[0m: name 'Xtrain' is not defined"
     ]
    }
   ],
   "source": [
    "ytrain = pd.get_dummies(train['sentiment']).values\n",
    "yval = pd.get_dummies(val['sentiment']).values\n",
    "ytest = pd.get_dummies(test['sentiment']).values\n",
    "print(Xtrain.shape,ytrain.shape)\n",
    "print(Xval.shape,yval.shape)\n",
    "print(Xtest.shape,ytest.shape)"
   ]
  },
  {
   "cell_type": "code",
   "execution_count": 13,
   "metadata": {},
   "outputs": [],
   "source": [
    "res = []\n",
    "models = []"
   ]
  },
  {
   "cell_type": "code",
   "execution_count": 25,
   "metadata": {},
   "outputs": [],
   "source": [
    "max_features = 1000\n",
    "embed_dim = 128\n",
    "lstm_out = 100\n",
    "batch_size = 512\n",
    "nepochs=7"
   ]
  },
  {
   "cell_type": "code",
   "execution_count": 26,
   "metadata": {},
   "outputs": [],
   "source": [
    "word_tokenizer = Tokenizer(num_words=max_features, char_level=False)\n",
    "word_tokenizer.fit_on_texts(train['text'].values.tolist() + val['text'].values.tolist() + test['text'].values.tolist())\n",
    "\n",
    "X = word_tokenizer.texts_to_sequences(train['text'].values.tolist() + val['text'].values.tolist() + test['text'].values.tolist())\n",
    "X = pad_sequences(X)\n",
    "Xtrain = X[:len(train)]\n",
    "Xval = X[len(train):len(train)+len(val)]\n",
    "Xtest = X[len(train)+len(val):]\n",
    "\n",
    "model = Sequential()\n",
    "model.add(Embedding(max_features, embed_dim,input_length = Xtrain.shape[1]))\n",
    "model.add(LSTM(lstm_out, dropout=0.2, recurrent_dropout=0.2))\n",
    "model.add(Dense(3,activation='softmax'))\n",
    "model.compile(loss = 'categorical_crossentropy', optimizer='adam',metrics = ['accuracy'])\n",
    "#print(model.summary())"
   ]
  },
  {
   "cell_type": "code",
   "execution_count": 27,
   "metadata": {},
   "outputs": [
    {
     "name": "stdout",
     "output_type": "stream",
     "text": [
      "Train on 5000 samples, validate on 1000 samples\n",
      "Epoch 1/7\n",
      "5000/5000 [==============================] - 5s 969us/step - loss: 1.0888 - acc: 0.4046 - val_loss: 1.0615 - val_acc: 0.5390\n",
      "Epoch 2/7\n",
      "5000/5000 [==============================] - 3s 674us/step - loss: 1.0162 - acc: 0.5550 - val_loss: 0.9871 - val_acc: 0.5320\n",
      "Epoch 3/7\n",
      "5000/5000 [==============================] - 3s 663us/step - loss: 0.9217 - acc: 0.5750 - val_loss: 0.9069 - val_acc: 0.6030\n",
      "Epoch 4/7\n",
      "5000/5000 [==============================] - 3s 667us/step - loss: 0.7710 - acc: 0.6958 - val_loss: 0.7796 - val_acc: 0.6630\n",
      "Epoch 5/7\n",
      "5000/5000 [==============================] - 3s 671us/step - loss: 0.5857 - acc: 0.7784 - val_loss: 0.6754 - val_acc: 0.7150\n",
      "Epoch 6/7\n",
      "5000/5000 [==============================] - 3s 679us/step - loss: 0.4504 - acc: 0.8308 - val_loss: 0.6402 - val_acc: 0.7580\n",
      "Epoch 7/7\n",
      "5000/5000 [==============================] - 3s 670us/step - loss: 0.3360 - acc: 0.8878 - val_loss: 0.6293 - val_acc: 0.7600\n"
     ]
    }
   ],
   "source": [
    "history = model.fit(Xtrain, ytrain, epochs = nepochs, batch_size=batch_size, validation_data=(Xval, yval))\n",
    "res += [[nepochs,max_features,embed_dim,lstm_out,batch_size] + history.history['acc'] + history.history['val_acc']]\n",
    "models += [model]                    "
   ]
  },
  {
   "cell_type": "code",
   "execution_count": 33,
   "metadata": {},
   "outputs": [
    {
     "data": {
      "text/plain": [
       "0.8181818181818182"
      ]
     },
     "execution_count": 33,
     "metadata": {},
     "output_type": "execute_result"
    }
   ],
   "source": [
    "test_pred = []\n",
    "for pred in model.predict_classes(Xtest):\n",
    "    temp = [0,0,0]\n",
    "    temp[pred] = 1\n",
    "    test_pred += [temp]\n",
    "    \n",
    "np.mean(test_pred == ytest)"
   ]
  },
  {
   "cell_type": "code",
   "execution_count": null,
   "metadata": {},
   "outputs": [],
   "source": [
    "plt.plot(range(len(history.history['acc'])),history.history['acc'])\n",
    "plt.plot(range(len(history.history['val_acc'])),history.history['val_acc'])"
   ]
  },
  {
   "cell_type": "code",
   "execution_count": 8,
   "metadata": {},
   "outputs": [
    {
     "name": "stderr",
     "output_type": "stream",
     "text": [
      "  1%|▏         | 1/72 [04:07<4:53:13, 247.80s/it]"
     ]
    },
    {
     "name": "stdout",
     "output_type": "stream",
     "text": [
      "[10, 100, 16, 16, 32, 0.582, 0.59]\n"
     ]
    },
    {
     "name": "stderr",
     "output_type": "stream",
     "text": [
      "\r",
      "  3%|▎         | 2/72 [05:18<3:47:12, 194.75s/it]"
     ]
    },
    {
     "name": "stdout",
     "output_type": "stream",
     "text": [
      "[10, 100, 16, 16, 128, 0.5638, 0.5780000028610229]\n"
     ]
    },
    {
     "name": "stderr",
     "output_type": "stream",
     "text": [
      "\r",
      "  4%|▍         | 3/72 [06:02<2:51:47, 149.38s/it]"
     ]
    },
    {
     "name": "stdout",
     "output_type": "stream",
     "text": [
      "[10, 100, 16, 16, 256, 0.5593999992370605, 0.5830000028610229]\n"
     ]
    },
    {
     "name": "stderr",
     "output_type": "stream",
     "text": [
      "\r",
      "  6%|▌         | 4/72 [09:57<3:18:22, 175.03s/it]"
     ]
    },
    {
     "name": "stdout",
     "output_type": "stream",
     "text": [
      "[10, 100, 16, 64, 32, 0.585, 0.589]\n"
     ]
    },
    {
     "name": "stderr",
     "output_type": "stream",
     "text": [
      "\r",
      "  7%|▋         | 5/72 [11:37<2:50:25, 152.62s/it]"
     ]
    },
    {
     "name": "stdout",
     "output_type": "stream",
     "text": [
      "[10, 100, 16, 64, 128, 0.5786, 0.5969999995231628]\n"
     ]
    },
    {
     "name": "stderr",
     "output_type": "stream",
     "text": [
      "\r",
      "  8%|▊         | 6/72 [12:56<2:23:35, 130.54s/it]"
     ]
    },
    {
     "name": "stdout",
     "output_type": "stream",
     "text": [
      "[10, 100, 16, 64, 256, 0.5714000002861023, 0.5940000038146973]\n"
     ]
    },
    {
     "name": "stderr",
     "output_type": "stream",
     "text": [
      "\r",
      " 10%|▉         | 7/72 [18:06<3:19:42, 184.35s/it]"
     ]
    },
    {
     "name": "stdout",
     "output_type": "stream",
     "text": [
      "[10, 100, 16, 128, 32, 0.5912, 0.583]\n"
     ]
    },
    {
     "name": "stderr",
     "output_type": "stream",
     "text": [
      "\r",
      " 11%|█         | 8/72 [21:35<3:24:41, 191.89s/it]"
     ]
    },
    {
     "name": "stdout",
     "output_type": "stream",
     "text": [
      "[10, 100, 16, 128, 128, 0.585, 0.5889999990463257]\n"
     ]
    },
    {
     "name": "stderr",
     "output_type": "stream",
     "text": [
      "\r",
      " 12%|█▎        | 9/72 [24:34<3:17:10, 187.79s/it]"
     ]
    },
    {
     "name": "stdout",
     "output_type": "stream",
     "text": [
      "[10, 100, 16, 128, 256, 0.5841999999046326, 0.5880000004768372]\n"
     ]
    },
    {
     "name": "stderr",
     "output_type": "stream",
     "text": [
      "\r",
      " 14%|█▍        | 10/72 [28:30<3:29:01, 202.29s/it]"
     ]
    },
    {
     "name": "stdout",
     "output_type": "stream",
     "text": [
      "[10, 100, 64, 16, 32, 0.5908, 0.59]\n"
     ]
    },
    {
     "name": "stderr",
     "output_type": "stream",
     "text": [
      "\r",
      " 15%|█▌        | 11/72 [29:58<2:50:45, 167.95s/it]"
     ]
    },
    {
     "name": "stdout",
     "output_type": "stream",
     "text": [
      "[10, 100, 64, 16, 128, 0.5706, 0.5640000009536743]\n"
     ]
    },
    {
     "name": "stderr",
     "output_type": "stream",
     "text": [
      "\r",
      " 17%|█▋        | 12/72 [31:00<2:16:21, 136.36s/it]"
     ]
    },
    {
     "name": "stdout",
     "output_type": "stream",
     "text": [
      "[10, 100, 64, 16, 256, 0.5794000001907349, 0.5809999971389771]\n"
     ]
    },
    {
     "name": "stderr",
     "output_type": "stream",
     "text": [
      "\r",
      " 18%|█▊        | 13/72 [35:23<2:51:30, 174.42s/it]"
     ]
    },
    {
     "name": "stdout",
     "output_type": "stream",
     "text": [
      "[10, 100, 64, 64, 32, 0.5896, 0.592]\n"
     ]
    },
    {
     "name": "stderr",
     "output_type": "stream",
     "text": [
      "\r",
      " 19%|█▉        | 14/72 [37:29<2:34:30, 159.84s/it]"
     ]
    },
    {
     "name": "stdout",
     "output_type": "stream",
     "text": [
      "[10, 100, 64, 64, 128, 0.594, 0.5990000009536743]\n"
     ]
    },
    {
     "name": "stderr",
     "output_type": "stream",
     "text": [
      "\r",
      " 21%|██        | 15/72 [39:14<2:16:08, 143.30s/it]"
     ]
    },
    {
     "name": "stdout",
     "output_type": "stream",
     "text": [
      "[10, 100, 64, 64, 256, 0.584800000667572, 0.5990000047683716]\n"
     ]
    },
    {
     "name": "stderr",
     "output_type": "stream",
     "text": [
      "\r",
      " 22%|██▏       | 16/72 [45:10<3:13:13, 207.02s/it]"
     ]
    },
    {
     "name": "stdout",
     "output_type": "stream",
     "text": [
      "[10, 100, 64, 128, 32, 0.5934, 0.593]\n"
     ]
    },
    {
     "name": "stderr",
     "output_type": "stream",
     "text": [
      "\r",
      " 24%|██▎       | 17/72 [49:21<3:22:05, 220.46s/it]"
     ]
    },
    {
     "name": "stdout",
     "output_type": "stream",
     "text": [
      "[10, 100, 64, 128, 128, 0.5976, 0.5960000004768372]\n"
     ]
    },
    {
     "name": "stderr",
     "output_type": "stream",
     "text": [
      "\r",
      " 25%|██▌       | 18/72 [52:57<3:17:01, 218.92s/it]"
     ]
    },
    {
     "name": "stdout",
     "output_type": "stream",
     "text": [
      "[10, 100, 64, 128, 256, 0.5990000002861023, 0.6010000038146973]\n"
     ]
    },
    {
     "name": "stderr",
     "output_type": "stream",
     "text": [
      "\r",
      " 26%|██▋       | 19/72 [57:22<3:25:33, 232.71s/it]"
     ]
    },
    {
     "name": "stdout",
     "output_type": "stream",
     "text": [
      "[10, 100, 128, 16, 32, 0.5908, 0.604]\n"
     ]
    },
    {
     "name": "stderr",
     "output_type": "stream",
     "text": [
      "\r",
      " 28%|██▊       | 20/72 [1:00:12<3:05:32, 214.09s/it]"
     ]
    },
    {
     "name": "stdout",
     "output_type": "stream",
     "text": [
      "[10, 100, 128, 16, 128, 0.5796, 0.5820000028610229]\n"
     ]
    },
    {
     "name": "stderr",
     "output_type": "stream",
     "text": [
      "\r",
      " 29%|██▉       | 21/72 [1:01:42<2:30:08, 176.64s/it]"
     ]
    },
    {
     "name": "stdout",
     "output_type": "stream",
     "text": [
      "[10, 100, 128, 16, 256, 0.5767999996185302, 0.5830000019073487]\n"
     ]
    },
    {
     "name": "stderr",
     "output_type": "stream",
     "text": [
      "\r",
      " 31%|███       | 22/72 [1:07:43<3:13:20, 232.01s/it]"
     ]
    },
    {
     "name": "stdout",
     "output_type": "stream",
     "text": [
      "[10, 100, 128, 64, 32, 0.6034, 0.605]\n"
     ]
    },
    {
     "name": "stderr",
     "output_type": "stream",
     "text": [
      "\r",
      " 32%|███▏      | 23/72 [1:10:22<2:51:33, 210.07s/it]"
     ]
    },
    {
     "name": "stdout",
     "output_type": "stream",
     "text": [
      "[10, 100, 128, 64, 128, 0.6042, 0.5919999976158142]\n"
     ]
    },
    {
     "name": "stderr",
     "output_type": "stream",
     "text": [
      "\r",
      " 33%|███▎      | 24/72 [1:13:05<2:36:56, 196.17s/it]"
     ]
    },
    {
     "name": "stdout",
     "output_type": "stream",
     "text": [
      "[10, 100, 128, 64, 256, 0.6021999994277955, 0.5980000004768372]\n"
     ]
    },
    {
     "name": "stderr",
     "output_type": "stream",
     "text": [
      "\r",
      " 35%|███▍      | 25/72 [1:19:52<3:23:06, 259.29s/it]"
     ]
    },
    {
     "name": "stdout",
     "output_type": "stream",
     "text": [
      "[10, 100, 128, 128, 32, 0.6, 0.592]\n"
     ]
    },
    {
     "name": "stderr",
     "output_type": "stream",
     "text": [
      "\r",
      " 36%|███▌      | 26/72 [1:24:43<3:26:01, 268.72s/it]"
     ]
    },
    {
     "name": "stdout",
     "output_type": "stream",
     "text": [
      "[10, 100, 128, 128, 128, 0.5928, 0.5890000019073486]\n"
     ]
    },
    {
     "name": "stderr",
     "output_type": "stream",
     "text": [
      "\r",
      " 38%|███▊      | 27/72 [1:28:59<3:18:38, 264.87s/it]"
     ]
    },
    {
     "name": "stdout",
     "output_type": "stream",
     "text": [
      "[10, 100, 128, 128, 256, 0.6025999999046325, 0.6009999933242798]\n"
     ]
    },
    {
     "name": "stderr",
     "output_type": "stream",
     "text": [
      "\r",
      " 39%|███▉      | 28/72 [1:32:46<3:05:55, 253.53s/it]"
     ]
    },
    {
     "name": "stdout",
     "output_type": "stream",
     "text": [
      "[10, 1000, 16, 16, 32, 0.591, 0.586]\n"
     ]
    },
    {
     "name": "stderr",
     "output_type": "stream",
     "text": [
      "\r",
      " 40%|████      | 29/72 [1:33:54<2:21:55, 198.02s/it]"
     ]
    },
    {
     "name": "stdout",
     "output_type": "stream",
     "text": [
      "[10, 1000, 16, 16, 128, 0.5728, 0.5840000009536743]\n"
     ]
    },
    {
     "name": "stderr",
     "output_type": "stream",
     "text": [
      "\r",
      " 42%|████▏     | 30/72 [1:34:40<1:46:40, 152.38s/it]"
     ]
    },
    {
     "name": "stdout",
     "output_type": "stream",
     "text": [
      "[10, 1000, 16, 16, 256, 0.5612000004768372, 0.5659999952316285]\n"
     ]
    },
    {
     "name": "stderr",
     "output_type": "stream",
     "text": [
      "\r",
      " 43%|████▎     | 31/72 [1:38:27<1:59:28, 174.85s/it]"
     ]
    },
    {
     "name": "stdout",
     "output_type": "stream",
     "text": [
      "[10, 1000, 16, 64, 32, 0.5978, 0.596]\n"
     ]
    },
    {
     "name": "stderr",
     "output_type": "stream",
     "text": [
      "\r",
      " 44%|████▍     | 32/72 [1:40:09<1:41:54, 152.85s/it]"
     ]
    },
    {
     "name": "stdout",
     "output_type": "stream",
     "text": [
      "[10, 1000, 16, 64, 128, 0.584, 0.6039999995231629]\n"
     ]
    },
    {
     "name": "stderr",
     "output_type": "stream",
     "text": [
      "\r",
      " 46%|████▌     | 33/72 [1:41:30<1:25:22, 131.35s/it]"
     ]
    },
    {
     "name": "stdout",
     "output_type": "stream",
     "text": [
      "[10, 1000, 16, 64, 256, 0.5814000005722046, 0.594999997138977]\n"
     ]
    },
    {
     "name": "stderr",
     "output_type": "stream",
     "text": [
      "\r",
      " 47%|████▋     | 34/72 [1:46:33<1:55:49, 182.88s/it]"
     ]
    },
    {
     "name": "stdout",
     "output_type": "stream",
     "text": [
      "[10, 1000, 16, 128, 32, 0.5888, 0.582]\n"
     ]
    },
    {
     "name": "stderr",
     "output_type": "stream",
     "text": [
      "\r",
      " 49%|████▊     | 35/72 [1:50:01<1:57:28, 190.50s/it]"
     ]
    },
    {
     "name": "stdout",
     "output_type": "stream",
     "text": [
      "[10, 1000, 16, 128, 128, 0.585, 0.5949999980926514]\n"
     ]
    },
    {
     "name": "stderr",
     "output_type": "stream",
     "text": [
      "\r",
      " 50%|█████     | 36/72 [1:52:57<1:51:33, 185.92s/it]"
     ]
    },
    {
     "name": "stdout",
     "output_type": "stream",
     "text": [
      "[10, 1000, 16, 128, 256, 0.5830000004768372, 0.5839999961853027]\n"
     ]
    },
    {
     "name": "stderr",
     "output_type": "stream",
     "text": [
      "\r",
      " 51%|█████▏    | 37/72 [1:56:43<1:55:26, 197.90s/it]"
     ]
    },
    {
     "name": "stdout",
     "output_type": "stream",
     "text": [
      "[10, 1000, 64, 16, 32, 0.601, 0.608]\n"
     ]
    },
    {
     "name": "stderr",
     "output_type": "stream",
     "text": [
      "\r",
      " 53%|█████▎    | 38/72 [1:58:11<1:33:35, 165.17s/it]"
     ]
    },
    {
     "name": "stdout",
     "output_type": "stream",
     "text": [
      "[10, 1000, 64, 16, 128, 0.587, 0.5939999980926514]\n"
     ]
    },
    {
     "name": "stderr",
     "output_type": "stream",
     "text": [
      "\r",
      " 54%|█████▍    | 39/72 [1:59:20<1:14:52, 136.12s/it]"
     ]
    },
    {
     "name": "stdout",
     "output_type": "stream",
     "text": [
      "[10, 1000, 64, 16, 256, 0.5791999995231628, 0.5770000019073487]\n"
     ]
    },
    {
     "name": "stderr",
     "output_type": "stream",
     "text": [
      "\r",
      " 56%|█████▌    | 40/72 [2:03:48<1:33:43, 175.74s/it]"
     ]
    },
    {
     "name": "stdout",
     "output_type": "stream",
     "text": [
      "[10, 1000, 64, 64, 32, 0.605, 0.61]\n"
     ]
    },
    {
     "name": "stderr",
     "output_type": "stream",
     "text": [
      "\r",
      " 57%|█████▋    | 41/72 [2:06:00<1:24:02, 162.67s/it]"
     ]
    },
    {
     "name": "stdout",
     "output_type": "stream",
     "text": [
      "[10, 1000, 64, 64, 128, 0.598, 0.5929999980926514]\n"
     ]
    },
    {
     "name": "stderr",
     "output_type": "stream",
     "text": [
      "\r",
      " 58%|█████▊    | 42/72 [2:07:50<1:13:22, 146.75s/it]"
     ]
    },
    {
     "name": "stdout",
     "output_type": "stream",
     "text": [
      "[10, 1000, 64, 64, 256, 0.6025999998092652, 0.5970000038146973]\n"
     ]
    },
    {
     "name": "stderr",
     "output_type": "stream",
     "text": [
      "\r",
      " 60%|█████▉    | 43/72 [2:13:51<1:42:04, 211.18s/it]"
     ]
    },
    {
     "name": "stdout",
     "output_type": "stream",
     "text": [
      "[10, 1000, 64, 128, 32, 0.608, 0.594]\n"
     ]
    },
    {
     "name": "stderr",
     "output_type": "stream",
     "text": [
      "\r",
      " 61%|██████    | 44/72 [2:18:09<1:45:05, 225.21s/it]"
     ]
    },
    {
     "name": "stdout",
     "output_type": "stream",
     "text": [
      "[10, 1000, 64, 128, 128, 0.6036, 0.6079999980926514]\n"
     ]
    },
    {
     "name": "stderr",
     "output_type": "stream",
     "text": [
      "\r",
      " 62%|██████▎   | 45/72 [2:21:50<1:40:44, 223.86s/it]"
     ]
    },
    {
     "name": "stdout",
     "output_type": "stream",
     "text": [
      "[10, 1000, 64, 128, 256, 0.605, 0.6009999933242798]\n"
     ]
    },
    {
     "name": "stderr",
     "output_type": "stream",
     "text": [
      "\r",
      " 64%|██████▍   | 46/72 [2:26:18<1:42:43, 237.06s/it]"
     ]
    },
    {
     "name": "stdout",
     "output_type": "stream",
     "text": [
      "[10, 1000, 128, 16, 32, 0.5994, 0.585]\n"
     ]
    },
    {
     "name": "stderr",
     "output_type": "stream",
     "text": [
      "\r",
      " 65%|██████▌   | 47/72 [2:28:16<1:23:54, 201.36s/it]"
     ]
    },
    {
     "name": "stdout",
     "output_type": "stream",
     "text": [
      "[10, 1000, 128, 16, 128, 0.5904, 0.5859999985694885]\n"
     ]
    },
    {
     "name": "stderr",
     "output_type": "stream",
     "text": [
      "\r",
      " 67%|██████▋   | 48/72 [2:29:49<1:07:30, 168.79s/it]"
     ]
    },
    {
     "name": "stdout",
     "output_type": "stream",
     "text": [
      "[10, 1000, 128, 16, 256, 0.581599999332428, 0.5849999980926514]\n"
     ]
    },
    {
     "name": "stderr",
     "output_type": "stream",
     "text": [
      "\r",
      " 68%|██████▊   | 49/72 [2:34:52<1:20:09, 209.09s/it]"
     ]
    },
    {
     "name": "stdout",
     "output_type": "stream",
     "text": [
      "[10, 1000, 128, 64, 32, 0.6098, 0.61]\n"
     ]
    },
    {
     "name": "stderr",
     "output_type": "stream",
     "text": [
      "\r",
      " 69%|██████▉   | 50/72 [2:37:35<1:11:41, 195.52s/it]"
     ]
    },
    {
     "name": "stdout",
     "output_type": "stream",
     "text": [
      "[10, 1000, 128, 64, 128, 0.6004, 0.6050000004768371]\n"
     ]
    },
    {
     "name": "stderr",
     "output_type": "stream",
     "text": [
      "\r",
      " 71%|███████   | 51/72 [2:40:20<1:05:12, 186.30s/it]"
     ]
    },
    {
     "name": "stdout",
     "output_type": "stream",
     "text": [
      "[10, 1000, 128, 64, 256, 0.6056000007629394, 0.6029999933242798]\n"
     ]
    },
    {
     "name": "stderr",
     "output_type": "stream",
     "text": [
      "\r",
      " 72%|███████▏  | 52/72 [2:47:13<1:24:43, 254.15s/it]"
     ]
    },
    {
     "name": "stdout",
     "output_type": "stream",
     "text": [
      "[10, 1000, 128, 128, 32, 0.6132, 0.604]\n"
     ]
    },
    {
     "name": "stderr",
     "output_type": "stream",
     "text": [
      "\r",
      " 74%|███████▎  | 53/72 [2:52:22<1:25:43, 270.70s/it]"
     ]
    },
    {
     "name": "stdout",
     "output_type": "stream",
     "text": [
      "[10, 1000, 128, 128, 128, 0.6102, 0.6040000019073486]\n"
     ]
    },
    {
     "name": "stderr",
     "output_type": "stream",
     "text": [
      "\r",
      " 75%|███████▌  | 54/72 [2:56:58<1:21:40, 272.25s/it]"
     ]
    },
    {
     "name": "stdout",
     "output_type": "stream",
     "text": [
      "[10, 1000, 128, 128, 256, 0.6174000001907348, 0.5989999933242798]\n"
     ]
    },
    {
     "name": "stderr",
     "output_type": "stream",
     "text": [
      "\n"
     ]
    }
   ],
   "source": [
    "\n",
    "nepochs=10\n",
    "from tqdm import tqdm\n",
    "with tqdm(total=2*3*4*3) as pbar:\n",
    "    for max_features in [100,1000]:\n",
    "        for embed_dim in [16,64,128]:\n",
    "            for lstm_out in [16,64,128]:\n",
    "                for batch_size in [32,128,256]:\n",
    "                    word_tokenizer = Tokenizer(num_words=max_features, char_level=True)\n",
    "                    word_tokenizer.fit_on_texts(train['text'].values.tolist() + val['text'].values.tolist() + test['text'].values.tolist())\n",
    "\n",
    "\n",
    "                    X = word_tokenizer.texts_to_sequences(train['text'].values.tolist() + val['text'].values.tolist() + test['text'].values.tolist())\n",
    "                    X = pad_sequences(X)\n",
    "                    Xtrain = X[:len(train)]\n",
    "                    Xval = X[len(train):len(train)+len(val)]\n",
    "                    Xtest = X[len(train)+len(val):]\n",
    "\n",
    "                    model = Sequential()\n",
    "                    model.add(Embedding(max_features, embed_dim,input_length = Xtrain.shape[1]))\n",
    "                    model.add(LSTM(lstm_out, dropout=0.2, recurrent_dropout=0.2))\n",
    "                    model.add(Dense(3,activation='softmax'))\n",
    "                    model.compile(loss = 'categorical_crossentropy', optimizer='adam',metrics = ['accuracy'])\n",
    "                    #print(model.summary())\n",
    "\n",
    "                    history = model.fit(Xtrain, ytrain, epochs = nepochs, batch_size=batch_size, validation_data=(Xval, yval),verbose=False)\n",
    "                    res += [[nepochs,max_features,embed_dim,lstm_out,batch_size] + history.history['acc'] + history.history['val_acc']]\n",
    "                    print([nepochs, max_features,embed_dim,lstm_out,batch_size] + [np.max(history.history['acc'])] + [np.max(history.history['val_acc'])])\n",
    "                    pbar.update()"
   ]
  },
  {
   "cell_type": "code",
   "execution_count": 24,
   "metadata": {},
   "outputs": [
    {
     "data": {
      "text/plain": [
       "[10000,\n",
       " 64,\n",
       " 64,\n",
       " 128,\n",
       " 0.4286,\n",
       " 0.6046,\n",
       " 0.7566,\n",
       " 0.8492,\n",
       " 0.9028,\n",
       " 0.9308,\n",
       " 0.9502,\n",
       " 0.962,\n",
       " 0.9666,\n",
       " 0.975,\n",
       " 0.9798,\n",
       " 0.9838,\n",
       " 0.9834,\n",
       " 0.9824,\n",
       " 0.986,\n",
       " 0.987,\n",
       " 0.9872,\n",
       " 0.9894,\n",
       " 0.9876,\n",
       " 0.9898,\n",
       " 0.5399999985694885,\n",
       " 0.6320000014305115,\n",
       " 0.7100000023841858,\n",
       " 0.7510000023841857,\n",
       " 0.7469999990463256,\n",
       " 0.7419999990463256,\n",
       " 0.7439999990463256,\n",
       " 0.7370000014305115,\n",
       " 0.7240000014305115,\n",
       " 0.7220000023841858,\n",
       " 0.7160000023841858,\n",
       " 0.717000002861023,\n",
       " 0.709,\n",
       " 0.7129999990463257,\n",
       " 0.7089999976158142,\n",
       " 0.708,\n",
       " 0.7109999985694885,\n",
       " 0.7000000023841858,\n",
       " 0.699,\n",
       " 0.6980000014305114]"
      ]
     },
     "execution_count": 24,
     "metadata": {},
     "output_type": "execute_result"
    }
   ],
   "source": [
    "res['']"
   ]
  },
  {
   "cell_type": "code",
   "execution_count": 9,
   "metadata": {},
   "outputs": [
    {
     "data": {
      "text/html": [
       "<div>\n",
       "<style scoped>\n",
       "    .dataframe tbody tr th:only-of-type {\n",
       "        vertical-align: middle;\n",
       "    }\n",
       "\n",
       "    .dataframe tbody tr th {\n",
       "        vertical-align: top;\n",
       "    }\n",
       "\n",
       "    .dataframe thead th {\n",
       "        text-align: right;\n",
       "    }\n",
       "</style>\n",
       "<table border=\"1\" class=\"dataframe\">\n",
       "  <thead>\n",
       "    <tr style=\"text-align: right;\">\n",
       "      <th></th>\n",
       "      <th>nepochs</th>\n",
       "      <th>max_features</th>\n",
       "      <th>embed_dim</th>\n",
       "      <th>lstm_out</th>\n",
       "      <th>batch_size</th>\n",
       "      <th>train_max</th>\n",
       "      <th>val_max</th>\n",
       "      <th>diff</th>\n",
       "    </tr>\n",
       "  </thead>\n",
       "  <tbody>\n",
       "    <tr>\n",
       "      <th>48</th>\n",
       "      <td>10.0</td>\n",
       "      <td>1000.0</td>\n",
       "      <td>128.0</td>\n",
       "      <td>64.0</td>\n",
       "      <td>32.0</td>\n",
       "      <td>0.6098</td>\n",
       "      <td>0.610</td>\n",
       "      <td>-0.0002</td>\n",
       "    </tr>\n",
       "    <tr>\n",
       "      <th>39</th>\n",
       "      <td>10.0</td>\n",
       "      <td>1000.0</td>\n",
       "      <td>64.0</td>\n",
       "      <td>64.0</td>\n",
       "      <td>32.0</td>\n",
       "      <td>0.6050</td>\n",
       "      <td>0.610</td>\n",
       "      <td>-0.0050</td>\n",
       "    </tr>\n",
       "    <tr>\n",
       "      <th>36</th>\n",
       "      <td>10.0</td>\n",
       "      <td>1000.0</td>\n",
       "      <td>64.0</td>\n",
       "      <td>16.0</td>\n",
       "      <td>32.0</td>\n",
       "      <td>0.6010</td>\n",
       "      <td>0.608</td>\n",
       "      <td>-0.0070</td>\n",
       "    </tr>\n",
       "    <tr>\n",
       "      <th>43</th>\n",
       "      <td>10.0</td>\n",
       "      <td>1000.0</td>\n",
       "      <td>64.0</td>\n",
       "      <td>128.0</td>\n",
       "      <td>128.0</td>\n",
       "      <td>0.6036</td>\n",
       "      <td>0.608</td>\n",
       "      <td>-0.0044</td>\n",
       "    </tr>\n",
       "    <tr>\n",
       "      <th>49</th>\n",
       "      <td>10.0</td>\n",
       "      <td>1000.0</td>\n",
       "      <td>128.0</td>\n",
       "      <td>64.0</td>\n",
       "      <td>128.0</td>\n",
       "      <td>0.6004</td>\n",
       "      <td>0.605</td>\n",
       "      <td>-0.0046</td>\n",
       "    </tr>\n",
       "    <tr>\n",
       "      <th>21</th>\n",
       "      <td>10.0</td>\n",
       "      <td>100.0</td>\n",
       "      <td>128.0</td>\n",
       "      <td>64.0</td>\n",
       "      <td>32.0</td>\n",
       "      <td>0.6034</td>\n",
       "      <td>0.605</td>\n",
       "      <td>-0.0016</td>\n",
       "    </tr>\n",
       "    <tr>\n",
       "      <th>52</th>\n",
       "      <td>10.0</td>\n",
       "      <td>1000.0</td>\n",
       "      <td>128.0</td>\n",
       "      <td>128.0</td>\n",
       "      <td>128.0</td>\n",
       "      <td>0.6102</td>\n",
       "      <td>0.604</td>\n",
       "      <td>0.0062</td>\n",
       "    </tr>\n",
       "    <tr>\n",
       "      <th>51</th>\n",
       "      <td>10.0</td>\n",
       "      <td>1000.0</td>\n",
       "      <td>128.0</td>\n",
       "      <td>128.0</td>\n",
       "      <td>32.0</td>\n",
       "      <td>0.6132</td>\n",
       "      <td>0.604</td>\n",
       "      <td>0.0092</td>\n",
       "    </tr>\n",
       "    <tr>\n",
       "      <th>18</th>\n",
       "      <td>10.0</td>\n",
       "      <td>100.0</td>\n",
       "      <td>128.0</td>\n",
       "      <td>16.0</td>\n",
       "      <td>32.0</td>\n",
       "      <td>0.5908</td>\n",
       "      <td>0.604</td>\n",
       "      <td>-0.0132</td>\n",
       "    </tr>\n",
       "    <tr>\n",
       "      <th>31</th>\n",
       "      <td>10.0</td>\n",
       "      <td>1000.0</td>\n",
       "      <td>16.0</td>\n",
       "      <td>64.0</td>\n",
       "      <td>128.0</td>\n",
       "      <td>0.5840</td>\n",
       "      <td>0.604</td>\n",
       "      <td>-0.0200</td>\n",
       "    </tr>\n",
       "    <tr>\n",
       "      <th>50</th>\n",
       "      <td>10.0</td>\n",
       "      <td>1000.0</td>\n",
       "      <td>128.0</td>\n",
       "      <td>64.0</td>\n",
       "      <td>256.0</td>\n",
       "      <td>0.6056</td>\n",
       "      <td>0.603</td>\n",
       "      <td>0.0026</td>\n",
       "    </tr>\n",
       "    <tr>\n",
       "      <th>17</th>\n",
       "      <td>10.0</td>\n",
       "      <td>100.0</td>\n",
       "      <td>64.0</td>\n",
       "      <td>128.0</td>\n",
       "      <td>256.0</td>\n",
       "      <td>0.5990</td>\n",
       "      <td>0.601</td>\n",
       "      <td>-0.0020</td>\n",
       "    </tr>\n",
       "    <tr>\n",
       "      <th>26</th>\n",
       "      <td>10.0</td>\n",
       "      <td>100.0</td>\n",
       "      <td>128.0</td>\n",
       "      <td>128.0</td>\n",
       "      <td>256.0</td>\n",
       "      <td>0.6026</td>\n",
       "      <td>0.601</td>\n",
       "      <td>0.0016</td>\n",
       "    </tr>\n",
       "    <tr>\n",
       "      <th>44</th>\n",
       "      <td>10.0</td>\n",
       "      <td>1000.0</td>\n",
       "      <td>64.0</td>\n",
       "      <td>128.0</td>\n",
       "      <td>256.0</td>\n",
       "      <td>0.6050</td>\n",
       "      <td>0.601</td>\n",
       "      <td>0.0040</td>\n",
       "    </tr>\n",
       "    <tr>\n",
       "      <th>14</th>\n",
       "      <td>10.0</td>\n",
       "      <td>100.0</td>\n",
       "      <td>64.0</td>\n",
       "      <td>64.0</td>\n",
       "      <td>256.0</td>\n",
       "      <td>0.5848</td>\n",
       "      <td>0.599</td>\n",
       "      <td>-0.0142</td>\n",
       "    </tr>\n",
       "    <tr>\n",
       "      <th>13</th>\n",
       "      <td>10.0</td>\n",
       "      <td>100.0</td>\n",
       "      <td>64.0</td>\n",
       "      <td>64.0</td>\n",
       "      <td>128.0</td>\n",
       "      <td>0.5940</td>\n",
       "      <td>0.599</td>\n",
       "      <td>-0.0050</td>\n",
       "    </tr>\n",
       "    <tr>\n",
       "      <th>53</th>\n",
       "      <td>10.0</td>\n",
       "      <td>1000.0</td>\n",
       "      <td>128.0</td>\n",
       "      <td>128.0</td>\n",
       "      <td>256.0</td>\n",
       "      <td>0.6174</td>\n",
       "      <td>0.599</td>\n",
       "      <td>0.0184</td>\n",
       "    </tr>\n",
       "    <tr>\n",
       "      <th>23</th>\n",
       "      <td>10.0</td>\n",
       "      <td>100.0</td>\n",
       "      <td>128.0</td>\n",
       "      <td>64.0</td>\n",
       "      <td>256.0</td>\n",
       "      <td>0.6022</td>\n",
       "      <td>0.598</td>\n",
       "      <td>0.0042</td>\n",
       "    </tr>\n",
       "    <tr>\n",
       "      <th>41</th>\n",
       "      <td>10.0</td>\n",
       "      <td>1000.0</td>\n",
       "      <td>64.0</td>\n",
       "      <td>64.0</td>\n",
       "      <td>256.0</td>\n",
       "      <td>0.6026</td>\n",
       "      <td>0.597</td>\n",
       "      <td>0.0056</td>\n",
       "    </tr>\n",
       "    <tr>\n",
       "      <th>4</th>\n",
       "      <td>10.0</td>\n",
       "      <td>100.0</td>\n",
       "      <td>16.0</td>\n",
       "      <td>64.0</td>\n",
       "      <td>128.0</td>\n",
       "      <td>0.5786</td>\n",
       "      <td>0.597</td>\n",
       "      <td>-0.0184</td>\n",
       "    </tr>\n",
       "    <tr>\n",
       "      <th>16</th>\n",
       "      <td>10.0</td>\n",
       "      <td>100.0</td>\n",
       "      <td>64.0</td>\n",
       "      <td>128.0</td>\n",
       "      <td>128.0</td>\n",
       "      <td>0.5976</td>\n",
       "      <td>0.596</td>\n",
       "      <td>0.0016</td>\n",
       "    </tr>\n",
       "    <tr>\n",
       "      <th>30</th>\n",
       "      <td>10.0</td>\n",
       "      <td>1000.0</td>\n",
       "      <td>16.0</td>\n",
       "      <td>64.0</td>\n",
       "      <td>32.0</td>\n",
       "      <td>0.5978</td>\n",
       "      <td>0.596</td>\n",
       "      <td>0.0018</td>\n",
       "    </tr>\n",
       "    <tr>\n",
       "      <th>34</th>\n",
       "      <td>10.0</td>\n",
       "      <td>1000.0</td>\n",
       "      <td>16.0</td>\n",
       "      <td>128.0</td>\n",
       "      <td>128.0</td>\n",
       "      <td>0.5850</td>\n",
       "      <td>0.595</td>\n",
       "      <td>-0.0100</td>\n",
       "    </tr>\n",
       "    <tr>\n",
       "      <th>32</th>\n",
       "      <td>10.0</td>\n",
       "      <td>1000.0</td>\n",
       "      <td>16.0</td>\n",
       "      <td>64.0</td>\n",
       "      <td>256.0</td>\n",
       "      <td>0.5814</td>\n",
       "      <td>0.595</td>\n",
       "      <td>-0.0136</td>\n",
       "    </tr>\n",
       "    <tr>\n",
       "      <th>5</th>\n",
       "      <td>10.0</td>\n",
       "      <td>100.0</td>\n",
       "      <td>16.0</td>\n",
       "      <td>64.0</td>\n",
       "      <td>256.0</td>\n",
       "      <td>0.5714</td>\n",
       "      <td>0.594</td>\n",
       "      <td>-0.0226</td>\n",
       "    </tr>\n",
       "    <tr>\n",
       "      <th>42</th>\n",
       "      <td>10.0</td>\n",
       "      <td>1000.0</td>\n",
       "      <td>64.0</td>\n",
       "      <td>128.0</td>\n",
       "      <td>32.0</td>\n",
       "      <td>0.6080</td>\n",
       "      <td>0.594</td>\n",
       "      <td>0.0140</td>\n",
       "    </tr>\n",
       "    <tr>\n",
       "      <th>37</th>\n",
       "      <td>10.0</td>\n",
       "      <td>1000.0</td>\n",
       "      <td>64.0</td>\n",
       "      <td>16.0</td>\n",
       "      <td>128.0</td>\n",
       "      <td>0.5870</td>\n",
       "      <td>0.594</td>\n",
       "      <td>-0.0070</td>\n",
       "    </tr>\n",
       "    <tr>\n",
       "      <th>15</th>\n",
       "      <td>10.0</td>\n",
       "      <td>100.0</td>\n",
       "      <td>64.0</td>\n",
       "      <td>128.0</td>\n",
       "      <td>32.0</td>\n",
       "      <td>0.5934</td>\n",
       "      <td>0.593</td>\n",
       "      <td>0.0004</td>\n",
       "    </tr>\n",
       "    <tr>\n",
       "      <th>40</th>\n",
       "      <td>10.0</td>\n",
       "      <td>1000.0</td>\n",
       "      <td>64.0</td>\n",
       "      <td>64.0</td>\n",
       "      <td>128.0</td>\n",
       "      <td>0.5980</td>\n",
       "      <td>0.593</td>\n",
       "      <td>0.0050</td>\n",
       "    </tr>\n",
       "    <tr>\n",
       "      <th>12</th>\n",
       "      <td>10.0</td>\n",
       "      <td>100.0</td>\n",
       "      <td>64.0</td>\n",
       "      <td>64.0</td>\n",
       "      <td>32.0</td>\n",
       "      <td>0.5896</td>\n",
       "      <td>0.592</td>\n",
       "      <td>-0.0024</td>\n",
       "    </tr>\n",
       "    <tr>\n",
       "      <th>24</th>\n",
       "      <td>10.0</td>\n",
       "      <td>100.0</td>\n",
       "      <td>128.0</td>\n",
       "      <td>128.0</td>\n",
       "      <td>32.0</td>\n",
       "      <td>0.6000</td>\n",
       "      <td>0.592</td>\n",
       "      <td>0.0080</td>\n",
       "    </tr>\n",
       "    <tr>\n",
       "      <th>22</th>\n",
       "      <td>10.0</td>\n",
       "      <td>100.0</td>\n",
       "      <td>128.0</td>\n",
       "      <td>64.0</td>\n",
       "      <td>128.0</td>\n",
       "      <td>0.6042</td>\n",
       "      <td>0.592</td>\n",
       "      <td>0.0122</td>\n",
       "    </tr>\n",
       "    <tr>\n",
       "      <th>0</th>\n",
       "      <td>10.0</td>\n",
       "      <td>100.0</td>\n",
       "      <td>16.0</td>\n",
       "      <td>16.0</td>\n",
       "      <td>32.0</td>\n",
       "      <td>0.5820</td>\n",
       "      <td>0.590</td>\n",
       "      <td>-0.0080</td>\n",
       "    </tr>\n",
       "    <tr>\n",
       "      <th>9</th>\n",
       "      <td>10.0</td>\n",
       "      <td>100.0</td>\n",
       "      <td>64.0</td>\n",
       "      <td>16.0</td>\n",
       "      <td>32.0</td>\n",
       "      <td>0.5908</td>\n",
       "      <td>0.590</td>\n",
       "      <td>0.0008</td>\n",
       "    </tr>\n",
       "    <tr>\n",
       "      <th>25</th>\n",
       "      <td>10.0</td>\n",
       "      <td>100.0</td>\n",
       "      <td>128.0</td>\n",
       "      <td>128.0</td>\n",
       "      <td>128.0</td>\n",
       "      <td>0.5928</td>\n",
       "      <td>0.589</td>\n",
       "      <td>0.0038</td>\n",
       "    </tr>\n",
       "    <tr>\n",
       "      <th>3</th>\n",
       "      <td>10.0</td>\n",
       "      <td>100.0</td>\n",
       "      <td>16.0</td>\n",
       "      <td>64.0</td>\n",
       "      <td>32.0</td>\n",
       "      <td>0.5850</td>\n",
       "      <td>0.589</td>\n",
       "      <td>-0.0040</td>\n",
       "    </tr>\n",
       "    <tr>\n",
       "      <th>7</th>\n",
       "      <td>10.0</td>\n",
       "      <td>100.0</td>\n",
       "      <td>16.0</td>\n",
       "      <td>128.0</td>\n",
       "      <td>128.0</td>\n",
       "      <td>0.5850</td>\n",
       "      <td>0.589</td>\n",
       "      <td>-0.0040</td>\n",
       "    </tr>\n",
       "    <tr>\n",
       "      <th>8</th>\n",
       "      <td>10.0</td>\n",
       "      <td>100.0</td>\n",
       "      <td>16.0</td>\n",
       "      <td>128.0</td>\n",
       "      <td>256.0</td>\n",
       "      <td>0.5842</td>\n",
       "      <td>0.588</td>\n",
       "      <td>-0.0038</td>\n",
       "    </tr>\n",
       "    <tr>\n",
       "      <th>27</th>\n",
       "      <td>10.0</td>\n",
       "      <td>1000.0</td>\n",
       "      <td>16.0</td>\n",
       "      <td>16.0</td>\n",
       "      <td>32.0</td>\n",
       "      <td>0.5910</td>\n",
       "      <td>0.586</td>\n",
       "      <td>0.0050</td>\n",
       "    </tr>\n",
       "    <tr>\n",
       "      <th>46</th>\n",
       "      <td>10.0</td>\n",
       "      <td>1000.0</td>\n",
       "      <td>128.0</td>\n",
       "      <td>16.0</td>\n",
       "      <td>128.0</td>\n",
       "      <td>0.5904</td>\n",
       "      <td>0.586</td>\n",
       "      <td>0.0044</td>\n",
       "    </tr>\n",
       "    <tr>\n",
       "      <th>45</th>\n",
       "      <td>10.0</td>\n",
       "      <td>1000.0</td>\n",
       "      <td>128.0</td>\n",
       "      <td>16.0</td>\n",
       "      <td>32.0</td>\n",
       "      <td>0.5994</td>\n",
       "      <td>0.585</td>\n",
       "      <td>0.0144</td>\n",
       "    </tr>\n",
       "    <tr>\n",
       "      <th>47</th>\n",
       "      <td>10.0</td>\n",
       "      <td>1000.0</td>\n",
       "      <td>128.0</td>\n",
       "      <td>16.0</td>\n",
       "      <td>256.0</td>\n",
       "      <td>0.5816</td>\n",
       "      <td>0.585</td>\n",
       "      <td>-0.0034</td>\n",
       "    </tr>\n",
       "    <tr>\n",
       "      <th>28</th>\n",
       "      <td>10.0</td>\n",
       "      <td>1000.0</td>\n",
       "      <td>16.0</td>\n",
       "      <td>16.0</td>\n",
       "      <td>128.0</td>\n",
       "      <td>0.5728</td>\n",
       "      <td>0.584</td>\n",
       "      <td>-0.0112</td>\n",
       "    </tr>\n",
       "    <tr>\n",
       "      <th>35</th>\n",
       "      <td>10.0</td>\n",
       "      <td>1000.0</td>\n",
       "      <td>16.0</td>\n",
       "      <td>128.0</td>\n",
       "      <td>256.0</td>\n",
       "      <td>0.5830</td>\n",
       "      <td>0.584</td>\n",
       "      <td>-0.0010</td>\n",
       "    </tr>\n",
       "    <tr>\n",
       "      <th>2</th>\n",
       "      <td>10.0</td>\n",
       "      <td>100.0</td>\n",
       "      <td>16.0</td>\n",
       "      <td>16.0</td>\n",
       "      <td>256.0</td>\n",
       "      <td>0.5594</td>\n",
       "      <td>0.583</td>\n",
       "      <td>-0.0236</td>\n",
       "    </tr>\n",
       "    <tr>\n",
       "      <th>20</th>\n",
       "      <td>10.0</td>\n",
       "      <td>100.0</td>\n",
       "      <td>128.0</td>\n",
       "      <td>16.0</td>\n",
       "      <td>256.0</td>\n",
       "      <td>0.5768</td>\n",
       "      <td>0.583</td>\n",
       "      <td>-0.0062</td>\n",
       "    </tr>\n",
       "    <tr>\n",
       "      <th>6</th>\n",
       "      <td>10.0</td>\n",
       "      <td>100.0</td>\n",
       "      <td>16.0</td>\n",
       "      <td>128.0</td>\n",
       "      <td>32.0</td>\n",
       "      <td>0.5912</td>\n",
       "      <td>0.583</td>\n",
       "      <td>0.0082</td>\n",
       "    </tr>\n",
       "    <tr>\n",
       "      <th>19</th>\n",
       "      <td>10.0</td>\n",
       "      <td>100.0</td>\n",
       "      <td>128.0</td>\n",
       "      <td>16.0</td>\n",
       "      <td>128.0</td>\n",
       "      <td>0.5796</td>\n",
       "      <td>0.582</td>\n",
       "      <td>-0.0024</td>\n",
       "    </tr>\n",
       "    <tr>\n",
       "      <th>33</th>\n",
       "      <td>10.0</td>\n",
       "      <td>1000.0</td>\n",
       "      <td>16.0</td>\n",
       "      <td>128.0</td>\n",
       "      <td>32.0</td>\n",
       "      <td>0.5888</td>\n",
       "      <td>0.582</td>\n",
       "      <td>0.0068</td>\n",
       "    </tr>\n",
       "    <tr>\n",
       "      <th>11</th>\n",
       "      <td>10.0</td>\n",
       "      <td>100.0</td>\n",
       "      <td>64.0</td>\n",
       "      <td>16.0</td>\n",
       "      <td>256.0</td>\n",
       "      <td>0.5794</td>\n",
       "      <td>0.581</td>\n",
       "      <td>-0.0016</td>\n",
       "    </tr>\n",
       "    <tr>\n",
       "      <th>1</th>\n",
       "      <td>10.0</td>\n",
       "      <td>100.0</td>\n",
       "      <td>16.0</td>\n",
       "      <td>16.0</td>\n",
       "      <td>128.0</td>\n",
       "      <td>0.5638</td>\n",
       "      <td>0.578</td>\n",
       "      <td>-0.0142</td>\n",
       "    </tr>\n",
       "    <tr>\n",
       "      <th>38</th>\n",
       "      <td>10.0</td>\n",
       "      <td>1000.0</td>\n",
       "      <td>64.0</td>\n",
       "      <td>16.0</td>\n",
       "      <td>256.0</td>\n",
       "      <td>0.5792</td>\n",
       "      <td>0.577</td>\n",
       "      <td>0.0022</td>\n",
       "    </tr>\n",
       "    <tr>\n",
       "      <th>29</th>\n",
       "      <td>10.0</td>\n",
       "      <td>1000.0</td>\n",
       "      <td>16.0</td>\n",
       "      <td>16.0</td>\n",
       "      <td>256.0</td>\n",
       "      <td>0.5612</td>\n",
       "      <td>0.566</td>\n",
       "      <td>-0.0048</td>\n",
       "    </tr>\n",
       "    <tr>\n",
       "      <th>10</th>\n",
       "      <td>10.0</td>\n",
       "      <td>100.0</td>\n",
       "      <td>64.0</td>\n",
       "      <td>16.0</td>\n",
       "      <td>128.0</td>\n",
       "      <td>0.5706</td>\n",
       "      <td>0.564</td>\n",
       "      <td>0.0066</td>\n",
       "    </tr>\n",
       "  </tbody>\n",
       "</table>\n",
       "</div>"
      ],
      "text/plain": [
       "    nepochs  max_features  embed_dim  lstm_out  batch_size  train_max  \\\n",
       "48     10.0        1000.0      128.0      64.0        32.0     0.6098   \n",
       "39     10.0        1000.0       64.0      64.0        32.0     0.6050   \n",
       "36     10.0        1000.0       64.0      16.0        32.0     0.6010   \n",
       "43     10.0        1000.0       64.0     128.0       128.0     0.6036   \n",
       "49     10.0        1000.0      128.0      64.0       128.0     0.6004   \n",
       "21     10.0         100.0      128.0      64.0        32.0     0.6034   \n",
       "52     10.0        1000.0      128.0     128.0       128.0     0.6102   \n",
       "51     10.0        1000.0      128.0     128.0        32.0     0.6132   \n",
       "18     10.0         100.0      128.0      16.0        32.0     0.5908   \n",
       "31     10.0        1000.0       16.0      64.0       128.0     0.5840   \n",
       "50     10.0        1000.0      128.0      64.0       256.0     0.6056   \n",
       "17     10.0         100.0       64.0     128.0       256.0     0.5990   \n",
       "26     10.0         100.0      128.0     128.0       256.0     0.6026   \n",
       "44     10.0        1000.0       64.0     128.0       256.0     0.6050   \n",
       "14     10.0         100.0       64.0      64.0       256.0     0.5848   \n",
       "13     10.0         100.0       64.0      64.0       128.0     0.5940   \n",
       "53     10.0        1000.0      128.0     128.0       256.0     0.6174   \n",
       "23     10.0         100.0      128.0      64.0       256.0     0.6022   \n",
       "41     10.0        1000.0       64.0      64.0       256.0     0.6026   \n",
       "4      10.0         100.0       16.0      64.0       128.0     0.5786   \n",
       "16     10.0         100.0       64.0     128.0       128.0     0.5976   \n",
       "30     10.0        1000.0       16.0      64.0        32.0     0.5978   \n",
       "34     10.0        1000.0       16.0     128.0       128.0     0.5850   \n",
       "32     10.0        1000.0       16.0      64.0       256.0     0.5814   \n",
       "5      10.0         100.0       16.0      64.0       256.0     0.5714   \n",
       "42     10.0        1000.0       64.0     128.0        32.0     0.6080   \n",
       "37     10.0        1000.0       64.0      16.0       128.0     0.5870   \n",
       "15     10.0         100.0       64.0     128.0        32.0     0.5934   \n",
       "40     10.0        1000.0       64.0      64.0       128.0     0.5980   \n",
       "12     10.0         100.0       64.0      64.0        32.0     0.5896   \n",
       "24     10.0         100.0      128.0     128.0        32.0     0.6000   \n",
       "22     10.0         100.0      128.0      64.0       128.0     0.6042   \n",
       "0      10.0         100.0       16.0      16.0        32.0     0.5820   \n",
       "9      10.0         100.0       64.0      16.0        32.0     0.5908   \n",
       "25     10.0         100.0      128.0     128.0       128.0     0.5928   \n",
       "3      10.0         100.0       16.0      64.0        32.0     0.5850   \n",
       "7      10.0         100.0       16.0     128.0       128.0     0.5850   \n",
       "8      10.0         100.0       16.0     128.0       256.0     0.5842   \n",
       "27     10.0        1000.0       16.0      16.0        32.0     0.5910   \n",
       "46     10.0        1000.0      128.0      16.0       128.0     0.5904   \n",
       "45     10.0        1000.0      128.0      16.0        32.0     0.5994   \n",
       "47     10.0        1000.0      128.0      16.0       256.0     0.5816   \n",
       "28     10.0        1000.0       16.0      16.0       128.0     0.5728   \n",
       "35     10.0        1000.0       16.0     128.0       256.0     0.5830   \n",
       "2      10.0         100.0       16.0      16.0       256.0     0.5594   \n",
       "20     10.0         100.0      128.0      16.0       256.0     0.5768   \n",
       "6      10.0         100.0       16.0     128.0        32.0     0.5912   \n",
       "19     10.0         100.0      128.0      16.0       128.0     0.5796   \n",
       "33     10.0        1000.0       16.0     128.0        32.0     0.5888   \n",
       "11     10.0         100.0       64.0      16.0       256.0     0.5794   \n",
       "1      10.0         100.0       16.0      16.0       128.0     0.5638   \n",
       "38     10.0        1000.0       64.0      16.0       256.0     0.5792   \n",
       "29     10.0        1000.0       16.0      16.0       256.0     0.5612   \n",
       "10     10.0         100.0       64.0      16.0       128.0     0.5706   \n",
       "\n",
       "    val_max    diff  \n",
       "48    0.610 -0.0002  \n",
       "39    0.610 -0.0050  \n",
       "36    0.608 -0.0070  \n",
       "43    0.608 -0.0044  \n",
       "49    0.605 -0.0046  \n",
       "21    0.605 -0.0016  \n",
       "52    0.604  0.0062  \n",
       "51    0.604  0.0092  \n",
       "18    0.604 -0.0132  \n",
       "31    0.604 -0.0200  \n",
       "50    0.603  0.0026  \n",
       "17    0.601 -0.0020  \n",
       "26    0.601  0.0016  \n",
       "44    0.601  0.0040  \n",
       "14    0.599 -0.0142  \n",
       "13    0.599 -0.0050  \n",
       "53    0.599  0.0184  \n",
       "23    0.598  0.0042  \n",
       "41    0.597  0.0056  \n",
       "4     0.597 -0.0184  \n",
       "16    0.596  0.0016  \n",
       "30    0.596  0.0018  \n",
       "34    0.595 -0.0100  \n",
       "32    0.595 -0.0136  \n",
       "5     0.594 -0.0226  \n",
       "42    0.594  0.0140  \n",
       "37    0.594 -0.0070  \n",
       "15    0.593  0.0004  \n",
       "40    0.593  0.0050  \n",
       "12    0.592 -0.0024  \n",
       "24    0.592  0.0080  \n",
       "22    0.592  0.0122  \n",
       "0     0.590 -0.0080  \n",
       "9     0.590  0.0008  \n",
       "25    0.589  0.0038  \n",
       "3     0.589 -0.0040  \n",
       "7     0.589 -0.0040  \n",
       "8     0.588 -0.0038  \n",
       "27    0.586  0.0050  \n",
       "46    0.586  0.0044  \n",
       "45    0.585  0.0144  \n",
       "47    0.585 -0.0034  \n",
       "28    0.584 -0.0112  \n",
       "35    0.584 -0.0010  \n",
       "2     0.583 -0.0236  \n",
       "20    0.583 -0.0062  \n",
       "6     0.583  0.0082  \n",
       "19    0.582 -0.0024  \n",
       "33    0.582  0.0068  \n",
       "11    0.581 -0.0016  \n",
       "1     0.578 -0.0142  \n",
       "38    0.577  0.0022  \n",
       "29    0.566 -0.0048  \n",
       "10    0.564  0.0066  "
      ]
     },
     "execution_count": 9,
     "metadata": {},
     "output_type": "execute_result"
    }
   ],
   "source": [
    "df = pd.DataFrame(np.array(res)[:,:5],columns = ['nepochs','max_features','embed_dim','lstm_out','batch_size'])\n",
    "tr_acc = pd.DataFrame(np.array(res)[:,5:15])\n",
    "va_acc = pd.DataFrame(np.array(res)[:,15:25])\n",
    "df['train_max'] = tr_acc.max(axis=1)\n",
    "df['val_max'] = va_acc.max(axis=1)\n",
    "df['diff'] = df['train_max'] - df['val_max']\n",
    "df[(df['lstm_out']!=3)].sort_values('val_max',ascending=False)"
   ]
  },
  {
   "cell_type": "code",
   "execution_count": 10,
   "metadata": {},
   "outputs": [],
   "source": [
    "df.to_csv('lstm_char_train_3.csv')"
   ]
  },
  {
   "cell_type": "code",
   "execution_count": 42,
   "metadata": {},
   "outputs": [
    {
     "data": {
      "text/plain": [
       "{'acc': [0.4062000021934509,\n",
       "  0.5275999977111816,\n",
       "  0.5857999985694885,\n",
       "  0.6772000019073486,\n",
       "  0.7309999984741211,\n",
       "  0.7759999981880188,\n",
       "  0.7929999979972839,\n",
       "  0.8005999985694885,\n",
       "  0.8136000009536744,\n",
       "  0.8380000006675721],\n",
       " 'loss': [1.0746020488739014,\n",
       "  0.9884465896606446,\n",
       "  0.8958369854927063,\n",
       "  0.7637522832870484,\n",
       "  0.6406505021095276,\n",
       "  0.5588097978591919,\n",
       "  0.5105084029197693,\n",
       "  0.48304083008766174,\n",
       "  0.46273315505981444,\n",
       "  0.43337293162345886],\n",
       " 'val_acc': [0.5220000109672547,\n",
       "  0.5660000066757203,\n",
       "  0.6179999914169312,\n",
       "  0.672000009059906,\n",
       "  0.7129999985694885,\n",
       "  0.7319999976158142,\n",
       "  0.7400000061988831,\n",
       "  0.7509999952316284,\n",
       "  0.7349999890327453,\n",
       "  0.7570000038146972],\n",
       " 'val_loss': [1.0360965976715089,\n",
       "  0.9714739093780518,\n",
       "  0.8775711927413941,\n",
       "  0.7391939158439637,\n",
       "  0.678727029800415,\n",
       "  0.6424490041732788,\n",
       "  0.6495523729324341,\n",
       "  0.6502507195472718,\n",
       "  0.6688855495452881,\n",
       "  0.7119390687942505]}"
      ]
     },
     "execution_count": 42,
     "metadata": {},
     "output_type": "execute_result"
    }
   ],
   "source": [
    "history.history"
   ]
  },
  {
   "cell_type": "code",
   "execution_count": null,
   "metadata": {
    "collapsed": true
   },
   "outputs": [],
   "source": []
  }
 ],
 "metadata": {
  "kernelspec": {
   "display_name": "Python 3",
   "language": "python",
   "name": "python3"
  },
  "language_info": {
   "codemirror_mode": {
    "name": "ipython",
    "version": 3
   },
   "file_extension": ".py",
   "mimetype": "text/x-python",
   "name": "python",
   "nbconvert_exporter": "python",
   "pygments_lexer": "ipython3",
   "version": "3.5.3"
  }
 },
 "nbformat": 4,
 "nbformat_minor": 2
}
