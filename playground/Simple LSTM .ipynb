{
 "cells": [
  {
   "cell_type": "code",
   "execution_count": 1,
   "metadata": {},
   "outputs": [
    {
     "name": "stderr",
     "output_type": "stream",
     "text": [
      "C:\\ProgramData\\Anaconda3\\lib\\site-packages\\h5py\\__init__.py:34: FutureWarning: Conversion of the second argument of issubdtype from `float` to `np.floating` is deprecated. In future, it will be treated as `np.float64 == np.dtype(float).type`.\n",
      "  from ._conv import register_converters as _register_converters\n",
      "Using TensorFlow backend.\n"
     ]
    }
   ],
   "source": [
    "import os \n",
    "import re\n",
    "import keras\n",
    "import spacy \n",
    "\n",
    "import numpy as np\n",
    "import pandas as pd\n",
    "import matplotlib.pyplot as plt\n",
    "\n",
    "from keras.models import Sequential\n",
    "from keras.layers import Dense, Dropout, Embedding, LSTM, SpatialDropout1D\n",
    "from keras.callbacks import ModelCheckpoint\n",
    "from keras.preprocessing.text import Tokenizer\n",
    "from keras.preprocessing.sequence import pad_sequences\n",
    "\n",
    "from sklearn.metrics import roc_auc_score\n",
    "from sklearn.model_selection import train_test_split\n",
    "\n",
    "#Based on example here: https://devklaus.wordpress.com/2018/03/11/sentiment-analysis-on-us-twitter-airlines-dataset-a-deep-learning-approach/"
   ]
  },
  {
   "cell_type": "code",
   "execution_count": 2,
   "metadata": {
    "collapsed": true
   },
   "outputs": [],
   "source": [
    "train = pd.read_csv('../data/train.csv',sep=';',index_col=0)\n",
    "val = pd.read_csv('../data/val.csv',sep=';',index_col=0)\n",
    "test = pd.read_csv('../data/test.csv',sep=';',index_col=0)"
   ]
  },
  {
   "cell_type": "code",
   "execution_count": 3,
   "metadata": {},
   "outputs": [
    {
     "ename": "NameError",
     "evalue": "name 'Xtrain' is not defined",
     "output_type": "error",
     "traceback": [
      "\u001b[1;31m---------------------------------------------------------------------------\u001b[0m",
      "\u001b[1;31mNameError\u001b[0m                                 Traceback (most recent call last)",
      "\u001b[1;32m<ipython-input-3-1093dc6ef3b7>\u001b[0m in \u001b[0;36m<module>\u001b[1;34m()\u001b[0m\n\u001b[0;32m      2\u001b[0m \u001b[0myval\u001b[0m \u001b[1;33m=\u001b[0m \u001b[0mpd\u001b[0m\u001b[1;33m.\u001b[0m\u001b[0mget_dummies\u001b[0m\u001b[1;33m(\u001b[0m\u001b[0mval\u001b[0m\u001b[1;33m[\u001b[0m\u001b[1;34m'sentiment'\u001b[0m\u001b[1;33m]\u001b[0m\u001b[1;33m)\u001b[0m\u001b[1;33m.\u001b[0m\u001b[0mvalues\u001b[0m\u001b[1;33m\u001b[0m\u001b[0m\n\u001b[0;32m      3\u001b[0m \u001b[0mytest\u001b[0m \u001b[1;33m=\u001b[0m \u001b[0mpd\u001b[0m\u001b[1;33m.\u001b[0m\u001b[0mget_dummies\u001b[0m\u001b[1;33m(\u001b[0m\u001b[0mtest\u001b[0m\u001b[1;33m[\u001b[0m\u001b[1;34m'sentiment'\u001b[0m\u001b[1;33m]\u001b[0m\u001b[1;33m)\u001b[0m\u001b[1;33m.\u001b[0m\u001b[0mvalues\u001b[0m\u001b[1;33m\u001b[0m\u001b[0m\n\u001b[1;32m----> 4\u001b[1;33m \u001b[0mprint\u001b[0m\u001b[1;33m(\u001b[0m\u001b[0mXtrain\u001b[0m\u001b[1;33m.\u001b[0m\u001b[0mshape\u001b[0m\u001b[1;33m,\u001b[0m\u001b[0mytrain\u001b[0m\u001b[1;33m.\u001b[0m\u001b[0mshape\u001b[0m\u001b[1;33m)\u001b[0m\u001b[1;33m\u001b[0m\u001b[0m\n\u001b[0m\u001b[0;32m      5\u001b[0m \u001b[0mprint\u001b[0m\u001b[1;33m(\u001b[0m\u001b[0mXval\u001b[0m\u001b[1;33m.\u001b[0m\u001b[0mshape\u001b[0m\u001b[1;33m,\u001b[0m\u001b[0myval\u001b[0m\u001b[1;33m.\u001b[0m\u001b[0mshape\u001b[0m\u001b[1;33m)\u001b[0m\u001b[1;33m\u001b[0m\u001b[0m\n\u001b[0;32m      6\u001b[0m \u001b[0mprint\u001b[0m\u001b[1;33m(\u001b[0m\u001b[0mXtest\u001b[0m\u001b[1;33m.\u001b[0m\u001b[0mshape\u001b[0m\u001b[1;33m,\u001b[0m\u001b[0mytest\u001b[0m\u001b[1;33m.\u001b[0m\u001b[0mshape\u001b[0m\u001b[1;33m)\u001b[0m\u001b[1;33m\u001b[0m\u001b[0m\n",
      "\u001b[1;31mNameError\u001b[0m: name 'Xtrain' is not defined"
     ]
    }
   ],
   "source": [
    "ytrain = pd.get_dummies(train['sentiment']).values\n",
    "yval = pd.get_dummies(val['sentiment']).values\n",
    "ytest = pd.get_dummies(test['sentiment']).values\n",
    "print(Xtrain.shape,ytrain.shape)\n",
    "print(Xval.shape,yval.shape)\n",
    "print(Xtest.shape,ytest.shape)"
   ]
  },
  {
   "cell_type": "code",
   "execution_count": null,
   "metadata": {},
   "outputs": [
    {
     "name": "stderr",
     "output_type": "stream",
     "text": [
      "\r",
      "  0%|                                                                                           | 0/72 [00:00<?, ?it/s]"
     ]
    },
    {
     "name": "stdout",
     "output_type": "stream",
     "text": [
      "[100, 16, 3, 64, 0.6558, 0.6609999995231628]\n"
     ]
    },
    {
     "name": "stderr",
     "output_type": "stream",
     "text": [
      "\r",
      "  1%|█▏                                                                                 | 1/72 [00:21<25:26, 21.50s/it]"
     ]
    },
    {
     "name": "stdout",
     "output_type": "stream",
     "text": [
      "[100, 16, 3, 256, 0.5604000007629395, 0.5939999985694885]\n"
     ]
    },
    {
     "name": "stderr",
     "output_type": "stream",
     "text": [
      "\r",
      "  3%|██▎                                                                                | 2/72 [00:31<21:01, 18.01s/it]"
     ]
    },
    {
     "name": "stdout",
     "output_type": "stream",
     "text": [
      "[100, 16, 3, 512, 0.4956000007629395, 0.4860000059604645]\n"
     ]
    },
    {
     "name": "stderr",
     "output_type": "stream",
     "text": [
      "\r",
      "  4%|███▍                                                                               | 3/72 [00:39<17:23, 15.12s/it]"
     ]
    },
    {
     "name": "stdout",
     "output_type": "stream",
     "text": [
      "[100, 16, 10, 64, 0.6684, 0.665]\n"
     ]
    },
    {
     "name": "stderr",
     "output_type": "stream",
     "text": [
      "\r",
      "  6%|████▌                                                                              | 4/72 [01:08<21:51, 19.29s/it]"
     ]
    },
    {
     "name": "stdout",
     "output_type": "stream",
     "text": [
      "[100, 16, 10, 256, 0.6327999992370605, 0.6239999990463256]\n"
     ]
    },
    {
     "name": "stderr",
     "output_type": "stream",
     "text": [
      "\r",
      "  7%|█████▊                                                                             | 5/72 [01:27<21:11, 18.98s/it]"
     ]
    },
    {
     "name": "stdout",
     "output_type": "stream",
     "text": [
      "[100, 16, 10, 512, 0.5345999983787537, 0.5479999933242797]\n"
     ]
    },
    {
     "name": "stderr",
     "output_type": "stream",
     "text": [
      "\r",
      "  8%|██████▉                                                                            | 6/72 [01:41<19:25, 17.66s/it]"
     ]
    },
    {
     "name": "stdout",
     "output_type": "stream",
     "text": [
      "[100, 16, 100, 64, 0.6766, 0.6560000009536743]\n"
     ]
    },
    {
     "name": "stderr",
     "output_type": "stream",
     "text": [
      "\r",
      " 10%|████████                                                                           | 7/72 [02:31<29:38, 27.36s/it]"
     ]
    },
    {
     "name": "stdout",
     "output_type": "stream",
     "text": [
      "[100, 16, 100, 256, 0.6629999994277954, 0.6430000009536743]\n"
     ]
    },
    {
     "name": "stderr",
     "output_type": "stream",
     "text": [
      "\r",
      " 11%|█████████▏                                                                         | 8/72 [03:14<34:02, 31.92s/it]"
     ]
    },
    {
     "name": "stdout",
     "output_type": "stream",
     "text": [
      "[100, 16, 100, 512, 0.6230000001907349, 0.6269999966621399]\n"
     ]
    },
    {
     "name": "stderr",
     "output_type": "stream",
     "text": [
      "\r",
      " 12%|██████████▍                                                                        | 9/72 [03:57<37:07, 35.36s/it]"
     ]
    },
    {
     "name": "stdout",
     "output_type": "stream",
     "text": [
      "[100, 16, 196, 64, 0.6694, 0.653]\n"
     ]
    },
    {
     "name": "stderr",
     "output_type": "stream",
     "text": [
      "\r",
      " 14%|███████████                                                                     | 10/72 [05:55<1:02:09, 60.16s/it]"
     ]
    },
    {
     "name": "stdout",
     "output_type": "stream",
     "text": [
      "[100, 16, 196, 256, 0.6663999992370605, 0.6460000033378601]\n"
     ]
    },
    {
     "name": "stderr",
     "output_type": "stream",
     "text": [
      "\r",
      " 15%|████████████▏                                                                   | 11/72 [07:18<1:08:15, 67.14s/it]"
     ]
    },
    {
     "name": "stdout",
     "output_type": "stream",
     "text": [
      "[100, 16, 196, 512, 0.622000000667572, 0.6250000061988831]\n"
     ]
    },
    {
     "name": "stderr",
     "output_type": "stream",
     "text": [
      "\r",
      " 17%|█████████████▎                                                                  | 12/72 [08:36<1:10:08, 70.14s/it]"
     ]
    },
    {
     "name": "stdout",
     "output_type": "stream",
     "text": [
      "[100, 64, 3, 64, 0.6644, 0.657]\n"
     ]
    },
    {
     "name": "stderr",
     "output_type": "stream",
     "text": [
      "\r",
      " 18%|██████████████▊                                                                   | 13/72 [09:06<57:12, 58.18s/it]"
     ]
    },
    {
     "name": "stdout",
     "output_type": "stream",
     "text": [
      "[100, 64, 3, 256, 0.6147999994277954, 0.629000005722046]\n"
     ]
    },
    {
     "name": "stderr",
     "output_type": "stream",
     "text": [
      "\r",
      " 19%|███████████████▉                                                                  | 14/72 [09:25<45:02, 46.60s/it]"
     ]
    },
    {
     "name": "stdout",
     "output_type": "stream",
     "text": [
      "[100, 64, 3, 512, 0.5459999997138977, 0.5559999957084656]\n"
     ]
    },
    {
     "name": "stderr",
     "output_type": "stream",
     "text": [
      "\r",
      " 21%|█████████████████                                                                 | 15/72 [09:40<35:12, 37.07s/it]"
     ]
    },
    {
     "name": "stdout",
     "output_type": "stream",
     "text": [
      "[100, 64, 10, 64, 0.675, 0.661]\n"
     ]
    },
    {
     "name": "stderr",
     "output_type": "stream",
     "text": [
      "\r",
      " 22%|██████████████████▏                                                               | 16/72 [10:09<32:07, 34.42s/it]"
     ]
    },
    {
     "name": "stdout",
     "output_type": "stream",
     "text": [
      "[100, 64, 10, 256, 0.6645999994277955, 0.653999993801117]\n"
     ]
    },
    {
     "name": "stderr",
     "output_type": "stream",
     "text": [
      "\r",
      " 24%|███████████████████▎                                                              | 17/72 [10:30<27:55, 30.47s/it]"
     ]
    },
    {
     "name": "stdout",
     "output_type": "stream",
     "text": [
      "[100, 64, 10, 512, 0.5926000007629395, 0.5940000095367431]\n"
     ]
    },
    {
     "name": "stderr",
     "output_type": "stream",
     "text": [
      "\r",
      " 25%|████████████████████▌                                                             | 18/72 [10:49<24:28, 27.20s/it]"
     ]
    },
    {
     "name": "stdout",
     "output_type": "stream",
     "text": [
      "[100, 64, 100, 64, 0.6836, 0.6609999990463257]\n"
     ]
    },
    {
     "name": "stderr",
     "output_type": "stream",
     "text": [
      "\r",
      " 26%|█████████████████████▋                                                            | 19/72 [11:54<33:53, 38.36s/it]"
     ]
    },
    {
     "name": "stdout",
     "output_type": "stream",
     "text": [
      "[100, 64, 100, 256, 0.6740000000953674, 0.6580000009536743]\n"
     ]
    },
    {
     "name": "stderr",
     "output_type": "stream",
     "text": [
      "\r",
      " 28%|██████████████████████▊                                                           | 20/72 [13:35<49:34, 57.20s/it]"
     ]
    },
    {
     "name": "stdout",
     "output_type": "stream",
     "text": [
      "[100, 64, 100, 512, 0.6665999989509582, 0.6530000114440918]\n"
     ]
    },
    {
     "name": "stderr",
     "output_type": "stream",
     "text": [
      "\r",
      " 29%|███████████████████████▉                                                          | 21/72 [14:47<52:26, 61.70s/it]"
     ]
    },
    {
     "name": "stdout",
     "output_type": "stream",
     "text": [
      "[100, 64, 196, 64, 0.6766, 0.669]\n"
     ]
    },
    {
     "name": "stderr",
     "output_type": "stream",
     "text": [
      "\r",
      " 31%|████████████████████████▏                                                      | 22/72 [19:03<1:40:04, 120.10s/it]"
     ]
    },
    {
     "name": "stdout",
     "output_type": "stream",
     "text": [
      "[100, 64, 196, 256, 0.6768000004768372, 0.656999993801117]\n"
     ]
    },
    {
     "name": "stderr",
     "output_type": "stream",
     "text": [
      "\r",
      " 32%|█████████████████████████▏                                                     | 23/72 [22:10<1:54:22, 140.06s/it]"
     ]
    },
    {
     "name": "stdout",
     "output_type": "stream",
     "text": [
      "[100, 64, 196, 512, 0.6689999979972839, 0.6540000004768372]\n"
     ]
    },
    {
     "name": "stderr",
     "output_type": "stream",
     "text": [
      "\r",
      " 33%|██████████████████████████▎                                                    | 24/72 [24:48<1:56:17, 145.37s/it]"
     ]
    },
    {
     "name": "stdout",
     "output_type": "stream",
     "text": [
      "[100, 128, 3, 64, 0.6758, 0.646]\n"
     ]
    },
    {
     "name": "stderr",
     "output_type": "stream",
     "text": [
      "\r",
      " 35%|███████████████████████████▍                                                   | 25/72 [25:36<1:31:01, 116.21s/it]"
     ]
    },
    {
     "name": "stdout",
     "output_type": "stream",
     "text": [
      "[100, 128, 3, 256, 0.6496000001907348, 0.6459999952316284]\n"
     ]
    },
    {
     "name": "stderr",
     "output_type": "stream",
     "text": [
      "\r",
      " 36%|████████████████████████████▉                                                   | 26/72 [26:16<1:11:32, 93.31s/it]"
     ]
    },
    {
     "name": "stdout",
     "output_type": "stream",
     "text": [
      "[100, 128, 3, 512, 0.569800001525879, 0.5860000143051147]\n"
     ]
    },
    {
     "name": "stderr",
     "output_type": "stream",
     "text": [
      "\r",
      " 38%|██████████████████████████████▊                                                   | 27/72 [26:59<58:41, 78.25s/it]"
     ]
    },
    {
     "name": "stdout",
     "output_type": "stream",
     "text": [
      "[100, 128, 10, 64, 0.6786, 0.6600000009536743]\n"
     ]
    },
    {
     "name": "stderr",
     "output_type": "stream",
     "text": [
      "\r",
      " 39%|███████████████████████████████▉                                                  | 28/72 [27:46<50:26, 68.78s/it]"
     ]
    },
    {
     "name": "stdout",
     "output_type": "stream",
     "text": [
      "[100, 128, 10, 256, 0.6694000007629395, 0.6499999952316284]\n"
     ]
    },
    {
     "name": "stderr",
     "output_type": "stream",
     "text": [
      "\r",
      " 40%|█████████████████████████████████                                                 | 29/72 [28:32<44:29, 62.09s/it]"
     ]
    },
    {
     "name": "stdout",
     "output_type": "stream",
     "text": [
      "[100, 128, 10, 512, 0.6373999982833862, 0.6320000076293946]\n"
     ]
    },
    {
     "name": "stderr",
     "output_type": "stream",
     "text": [
      "\r",
      " 42%|██████████████████████████████████▏                                               | 30/72 [29:24<41:24, 59.15s/it]"
     ]
    },
    {
     "name": "stdout",
     "output_type": "stream",
     "text": [
      "[100, 128, 100, 64, 0.6868, 0.6670000004768372]\n"
     ]
    },
    {
     "name": "stderr",
     "output_type": "stream",
     "text": [
      "\r",
      " 43%|███████████████████████████████████▎                                              | 31/72 [31:38<55:40, 81.49s/it]"
     ]
    },
    {
     "name": "stdout",
     "output_type": "stream",
     "text": [
      "[100, 128, 100, 256, 0.6781999995231628, 0.6679999971389771]\n"
     ]
    },
    {
     "name": "stderr",
     "output_type": "stream",
     "text": [
      "\r",
      " 44%|███████████████████████████████████                                            | 32/72 [34:10<1:08:23, 102.59s/it]"
     ]
    },
    {
     "name": "stdout",
     "output_type": "stream",
     "text": [
      "[100, 128, 100, 512, 0.6737999995231628, 0.6520000076293946]\n"
     ]
    },
    {
     "name": "stderr",
     "output_type": "stream",
     "text": [
      "\r",
      " 46%|████████████████████████████████████▏                                          | 33/72 [35:44<1:05:03, 100.08s/it]"
     ]
    },
    {
     "name": "stdout",
     "output_type": "stream",
     "text": [
      "[100, 128, 196, 64, 0.6836, 0.6630000004768372]\n"
     ]
    },
    {
     "name": "stderr",
     "output_type": "stream",
     "text": [
      "\r",
      " 47%|█████████████████████████████████████▎                                         | 34/72 [41:50<1:53:47, 179.68s/it]"
     ]
    },
    {
     "name": "stdout",
     "output_type": "stream",
     "text": [
      "[100, 128, 196, 256, 0.6837999998092651, 0.6649999971389771]\n"
     ]
    },
    {
     "name": "stderr",
     "output_type": "stream",
     "text": [
      "\r",
      " 49%|██████████████████████████████████████▍                                        | 35/72 [45:02<1:53:08, 183.48s/it]"
     ]
    },
    {
     "name": "stdout",
     "output_type": "stream",
     "text": [
      "[100, 128, 196, 512, 0.671399998664856, 0.662999990940094]\n"
     ]
    },
    {
     "name": "stderr",
     "output_type": "stream",
     "text": [
      "\r",
      " 50%|███████████████████████████████████████▌                                       | 36/72 [47:23<1:42:28, 170.79s/it]"
     ]
    },
    {
     "name": "stdout",
     "output_type": "stream",
     "text": [
      "[1000, 16, 3, 64, 0.781, 0.7289999990463257]\n"
     ]
    },
    {
     "name": "stderr",
     "output_type": "stream",
     "text": [
      "\r",
      " 51%|████████████████████████████████████████▌                                      | 37/72 [48:02<1:16:30, 131.15s/it]"
     ]
    },
    {
     "name": "stdout",
     "output_type": "stream",
     "text": [
      "[1000, 16, 3, 256, 0.6543999997138977, 0.6340000009536744]\n"
     ]
    },
    {
     "name": "stderr",
     "output_type": "stream",
     "text": [
      "\r",
      " 53%|███████████████████████████████████████████▎                                      | 38/72 [48:21<55:15, 97.51s/it]"
     ]
    },
    {
     "name": "stdout",
     "output_type": "stream",
     "text": [
      "[1000, 16, 3, 512, 0.5884000018119812, 0.5900000128746032]\n"
     ]
    },
    {
     "name": "stderr",
     "output_type": "stream",
     "text": [
      "\r",
      " 54%|████████████████████████████████████████████▍                                     | 39/72 [48:37<40:12, 73.10s/it]"
     ]
    },
    {
     "name": "stdout",
     "output_type": "stream",
     "text": [
      "[1000, 16, 10, 64, 0.8112, 0.7499999995231629]\n"
     ]
    },
    {
     "name": "stderr",
     "output_type": "stream",
     "text": [
      "\r",
      " 56%|█████████████████████████████████████████████▌                                    | 40/72 [49:16<33:29, 62.81s/it]"
     ]
    },
    {
     "name": "stdout",
     "output_type": "stream",
     "text": [
      "[1000, 16, 10, 256, 0.7391999994277955, 0.7199999980926514]\n"
     ]
    },
    {
     "name": "stderr",
     "output_type": "stream",
     "text": [
      "\r",
      " 57%|██████████████████████████████████████████████▋                                   | 41/72 [49:35<25:45, 49.85s/it]"
     ]
    },
    {
     "name": "stdout",
     "output_type": "stream",
     "text": [
      "[1000, 16, 10, 512, 0.6242000016212463, 0.638999988079071]\n"
     ]
    },
    {
     "name": "stderr",
     "output_type": "stream",
     "text": [
      "\r",
      " 58%|███████████████████████████████████████████████▊                                  | 42/72 [50:04<21:47, 43.58s/it]"
     ]
    },
    {
     "name": "stdout",
     "output_type": "stream",
     "text": [
      "[1000, 16, 100, 64, 0.8222, 0.745]\n"
     ]
    },
    {
     "name": "stderr",
     "output_type": "stream",
     "text": [
      "\r",
      " 60%|████████████████████████████████████████████████▉                                 | 43/72 [51:47<29:40, 61.40s/it]"
     ]
    },
    {
     "name": "stdout",
     "output_type": "stream",
     "text": [
      "[1000, 16, 100, 256, 0.795200000667572, 0.747]\n"
     ]
    },
    {
     "name": "stderr",
     "output_type": "stream",
     "text": [
      "\r",
      " 61%|██████████████████████████████████████████████████                                | 44/72 [54:32<43:03, 92.27s/it]"
     ]
    },
    {
     "name": "stdout",
     "output_type": "stream",
     "text": [
      "[1000, 16, 100, 512, 0.7166000002861023, 0.7170000143051147]\n"
     ]
    },
    {
     "name": "stderr",
     "output_type": "stream",
     "text": [
      "\r",
      " 62%|███████████████████████████████████████████████████▎                              | 45/72 [56:11<42:31, 94.50s/it]"
     ]
    },
    {
     "name": "stdout",
     "output_type": "stream",
     "text": [
      "[1000, 16, 196, 64, 0.821, 0.742]\n"
     ]
    },
    {
     "name": "stderr",
     "output_type": "stream",
     "text": [
      "\r",
      " 64%|█████████████████████████████████████████████████▏                           | 46/72 [1:01:49<1:12:33, 167.46s/it]"
     ]
    },
    {
     "name": "stdout",
     "output_type": "stream",
     "text": [
      "[1000, 16, 196, 256, 0.7884000003814697, 0.7400000038146972]\n"
     ]
    },
    {
     "name": "stderr",
     "output_type": "stream",
     "text": [
      "\r",
      " 65%|██████████████████████████████████████████████████▎                          | 47/72 [1:05:34<1:16:56, 184.67s/it]"
     ]
    },
    {
     "name": "stdout",
     "output_type": "stream",
     "text": [
      "[1000, 16, 196, 512, 0.6769999985694886, 0.6589999942779541]\n"
     ]
    },
    {
     "name": "stderr",
     "output_type": "stream",
     "text": [
      "\r",
      " 67%|███████████████████████████████████████████████████▎                         | 48/72 [1:08:13<1:10:46, 176.95s/it]"
     ]
    },
    {
     "name": "stdout",
     "output_type": "stream",
     "text": [
      "[1000, 64, 3, 64, 0.8302, 0.741]\n"
     ]
    },
    {
     "name": "stderr",
     "output_type": "stream",
     "text": [
      "\r",
      " 68%|█████████████████████████████████████████████████████▊                         | 49/72 [1:09:00<52:53, 137.96s/it]"
     ]
    },
    {
     "name": "stdout",
     "output_type": "stream",
     "text": [
      "[1000, 64, 3, 256, 0.7481999999046326, 0.7090000038146973]\n"
     ]
    },
    {
     "name": "stderr",
     "output_type": "stream",
     "text": [
      "\r",
      " 69%|██████████████████████████████████████████████████████▊                        | 50/72 [1:09:45<40:26, 110.28s/it]"
     ]
    },
    {
     "name": "stdout",
     "output_type": "stream",
     "text": [
      "[1000, 64, 3, 512, 0.5831999999046326, 0.5419999942779541]\n"
     ]
    },
    {
     "name": "stderr",
     "output_type": "stream",
     "text": [
      "\r",
      " 71%|████████████████████████████████████████████████████████▋                       | 51/72 [1:10:25<31:13, 89.22s/it]"
     ]
    },
    {
     "name": "stdout",
     "output_type": "stream",
     "text": [
      "[1000, 64, 10, 64, 0.8456, 0.7449999995231629]\n"
     ]
    },
    {
     "name": "stderr",
     "output_type": "stream",
     "text": [
      "\r",
      " 72%|█████████████████████████████████████████████████████████▊                      | 52/72 [1:11:50<29:17, 87.85s/it]"
     ]
    },
    {
     "name": "stdout",
     "output_type": "stream",
     "text": [
      "[1000, 64, 10, 256, 0.7924000000953675, 0.7380000023841858]\n"
     ]
    },
    {
     "name": "stderr",
     "output_type": "stream",
     "text": [
      "\r",
      " 74%|██████████████████████████████████████████████████████████▉                     | 53/72 [1:12:47<24:51, 78.52s/it]"
     ]
    },
    {
     "name": "stdout",
     "output_type": "stream",
     "text": [
      "[1000, 64, 10, 512, 0.7197999980926514, 0.7020000057220459]\n"
     ]
    },
    {
     "name": "stderr",
     "output_type": "stream",
     "text": [
      "\r",
      " 75%|████████████████████████████████████████████████████████████                    | 54/72 [1:13:31<20:27, 68.21s/it]"
     ]
    }
   ],
   "source": [
    "max_features = 1000\n",
    "embed_dim = 128\n",
    "lstm_out = 196\n",
    "batch_size = 512\n",
    "nepochs=10\n",
    "res = []\n",
    "from tqdm import tqdm\n",
    "with tqdm(total=2*3*4*3) as pbar:\n",
    "  for max_features in [100,1000]:\n",
    "    for embed_dim in [16,64,128]:\n",
    "      for lstm_out in [3,10,100,196]:\n",
    "        for batch_size in [64,256,512]:\n",
    "          word_tokenizer = Tokenizer(num_words=max_features, split=' ')\n",
    "          word_tokenizer.fit_on_texts(train['text'].values.tolist() + val['text'].values.tolist() + test['text'].values.tolist())\n",
    "\n",
    "\n",
    "          X = word_tokenizer.texts_to_sequences(train['text'].values.tolist() + val['text'].values.tolist() + test['text'].values.tolist())\n",
    "          X = pad_sequences(X)\n",
    "          Xtrain = X[:len(train)]\n",
    "          Xval = X[len(train):len(train)+len(val)]\n",
    "          Xtest = X[len(train)+len(val):]\n",
    "\n",
    "\n",
    "\n",
    "          model = Sequential()\n",
    "          model.add(Embedding(max_features, embed_dim,input_length = Xtrain.shape[1]))\n",
    "          model.add(LSTM(lstm_out, dropout=0.2, recurrent_dropout=0.2))\n",
    "          model.add(Dense(3,activation='softmax'))\n",
    "          model.compile(loss = 'categorical_crossentropy', optimizer='adam',metrics = ['accuracy'])\n",
    "          #print(model.summary())\n",
    "\n",
    "          history = model.fit(Xtrain, ytrain, epochs = nepochs, batch_size=batch_size, validation_data=(Xval, yval),verbose=False)\n",
    "          res += [[max_features,embed_dim,lstm_out,batch_size] + history.history['acc'] + history.history['val_acc']]\n",
    "          print([max_features,embed_dim,lstm_out,batch_size] + [np.max(history.history['acc'])] + [np.max(history.history['val_acc'])])\n",
    "          pbar.update()"
   ]
  },
  {
   "cell_type": "code",
   "execution_count": 47,
   "metadata": {},
   "outputs": [
    {
     "data": {
      "text/html": [
       "<div>\n",
       "<style>\n",
       "    .dataframe thead tr:only-child th {\n",
       "        text-align: right;\n",
       "    }\n",
       "\n",
       "    .dataframe thead th {\n",
       "        text-align: left;\n",
       "    }\n",
       "\n",
       "    .dataframe tbody tr th {\n",
       "        vertical-align: top;\n",
       "    }\n",
       "</style>\n",
       "<table border=\"1\" class=\"dataframe\">\n",
       "  <thead>\n",
       "    <tr style=\"text-align: right;\">\n",
       "      <th></th>\n",
       "      <th>0</th>\n",
       "      <th>1</th>\n",
       "      <th>2</th>\n",
       "      <th>3</th>\n",
       "      <th>4</th>\n",
       "      <th>5</th>\n",
       "      <th>6</th>\n",
       "      <th>7</th>\n",
       "      <th>8</th>\n",
       "      <th>9</th>\n",
       "      <th>...</th>\n",
       "      <th>14</th>\n",
       "      <th>15</th>\n",
       "      <th>16</th>\n",
       "      <th>17</th>\n",
       "      <th>18</th>\n",
       "      <th>19</th>\n",
       "      <th>20</th>\n",
       "      <th>21</th>\n",
       "      <th>22</th>\n",
       "      <th>23</th>\n",
       "    </tr>\n",
       "  </thead>\n",
       "  <tbody>\n",
       "    <tr>\n",
       "      <th>0</th>\n",
       "      <td>10</td>\n",
       "      <td>16</td>\n",
       "      <td>3</td>\n",
       "      <td>64</td>\n",
       "      <td>0.3992</td>\n",
       "      <td>0.4148</td>\n",
       "      <td>0.4294</td>\n",
       "      <td>0.4364</td>\n",
       "      <td>0.4504</td>\n",
       "      <td>0.4546</td>\n",
       "      <td>...</td>\n",
       "      <td>0.389</td>\n",
       "      <td>0.403</td>\n",
       "      <td>0.396</td>\n",
       "      <td>0.430</td>\n",
       "      <td>0.444</td>\n",
       "      <td>0.449</td>\n",
       "      <td>0.445</td>\n",
       "      <td>0.442</td>\n",
       "      <td>0.444</td>\n",
       "      <td>0.440</td>\n",
       "    </tr>\n",
       "    <tr>\n",
       "      <th>1</th>\n",
       "      <td>10</td>\n",
       "      <td>16</td>\n",
       "      <td>3</td>\n",
       "      <td>256</td>\n",
       "      <td>0.3896</td>\n",
       "      <td>0.4146</td>\n",
       "      <td>0.4220</td>\n",
       "      <td>0.4250</td>\n",
       "      <td>0.4326</td>\n",
       "      <td>0.4316</td>\n",
       "      <td>...</td>\n",
       "      <td>0.392</td>\n",
       "      <td>0.410</td>\n",
       "      <td>0.415</td>\n",
       "      <td>0.426</td>\n",
       "      <td>0.429</td>\n",
       "      <td>0.439</td>\n",
       "      <td>0.444</td>\n",
       "      <td>0.448</td>\n",
       "      <td>0.442</td>\n",
       "      <td>0.441</td>\n",
       "    </tr>\n",
       "    <tr>\n",
       "      <th>2</th>\n",
       "      <td>10</td>\n",
       "      <td>16</td>\n",
       "      <td>3</td>\n",
       "      <td>512</td>\n",
       "      <td>0.3494</td>\n",
       "      <td>0.3764</td>\n",
       "      <td>0.3960</td>\n",
       "      <td>0.4052</td>\n",
       "      <td>0.4004</td>\n",
       "      <td>0.4100</td>\n",
       "      <td>...</td>\n",
       "      <td>0.360</td>\n",
       "      <td>0.366</td>\n",
       "      <td>0.372</td>\n",
       "      <td>0.379</td>\n",
       "      <td>0.382</td>\n",
       "      <td>0.387</td>\n",
       "      <td>0.392</td>\n",
       "      <td>0.391</td>\n",
       "      <td>0.389</td>\n",
       "      <td>0.397</td>\n",
       "    </tr>\n",
       "    <tr>\n",
       "      <th>3</th>\n",
       "      <td>10</td>\n",
       "      <td>16</td>\n",
       "      <td>10</td>\n",
       "      <td>64</td>\n",
       "      <td>0.3676</td>\n",
       "      <td>0.4274</td>\n",
       "      <td>0.4500</td>\n",
       "      <td>0.4516</td>\n",
       "      <td>0.4584</td>\n",
       "      <td>0.4548</td>\n",
       "      <td>...</td>\n",
       "      <td>0.434</td>\n",
       "      <td>0.449</td>\n",
       "      <td>0.443</td>\n",
       "      <td>0.443</td>\n",
       "      <td>0.446</td>\n",
       "      <td>0.444</td>\n",
       "      <td>0.449</td>\n",
       "      <td>0.449</td>\n",
       "      <td>0.441</td>\n",
       "      <td>0.450</td>\n",
       "    </tr>\n",
       "    <tr>\n",
       "      <th>4</th>\n",
       "      <td>10</td>\n",
       "      <td>16</td>\n",
       "      <td>10</td>\n",
       "      <td>256</td>\n",
       "      <td>0.3458</td>\n",
       "      <td>0.4178</td>\n",
       "      <td>0.4272</td>\n",
       "      <td>0.4336</td>\n",
       "      <td>0.4464</td>\n",
       "      <td>0.4444</td>\n",
       "      <td>...</td>\n",
       "      <td>0.384</td>\n",
       "      <td>0.428</td>\n",
       "      <td>0.441</td>\n",
       "      <td>0.440</td>\n",
       "      <td>0.438</td>\n",
       "      <td>0.442</td>\n",
       "      <td>0.455</td>\n",
       "      <td>0.448</td>\n",
       "      <td>0.445</td>\n",
       "      <td>0.442</td>\n",
       "    </tr>\n",
       "    <tr>\n",
       "      <th>5</th>\n",
       "      <td>10</td>\n",
       "      <td>16</td>\n",
       "      <td>10</td>\n",
       "      <td>512</td>\n",
       "      <td>0.3492</td>\n",
       "      <td>0.3872</td>\n",
       "      <td>0.4156</td>\n",
       "      <td>0.4326</td>\n",
       "      <td>0.4358</td>\n",
       "      <td>0.4342</td>\n",
       "      <td>...</td>\n",
       "      <td>0.376</td>\n",
       "      <td>0.412</td>\n",
       "      <td>0.441</td>\n",
       "      <td>0.438</td>\n",
       "      <td>0.445</td>\n",
       "      <td>0.445</td>\n",
       "      <td>0.447</td>\n",
       "      <td>0.446</td>\n",
       "      <td>0.455</td>\n",
       "      <td>0.453</td>\n",
       "    </tr>\n",
       "    <tr>\n",
       "      <th>6</th>\n",
       "      <td>10</td>\n",
       "      <td>16</td>\n",
       "      <td>100</td>\n",
       "      <td>64</td>\n",
       "      <td>0.3862</td>\n",
       "      <td>0.4344</td>\n",
       "      <td>0.4514</td>\n",
       "      <td>0.4462</td>\n",
       "      <td>0.4522</td>\n",
       "      <td>0.4478</td>\n",
       "      <td>...</td>\n",
       "      <td>0.407</td>\n",
       "      <td>0.442</td>\n",
       "      <td>0.446</td>\n",
       "      <td>0.453</td>\n",
       "      <td>0.461</td>\n",
       "      <td>0.446</td>\n",
       "      <td>0.456</td>\n",
       "      <td>0.442</td>\n",
       "      <td>0.437</td>\n",
       "      <td>0.456</td>\n",
       "    </tr>\n",
       "    <tr>\n",
       "      <th>7</th>\n",
       "      <td>10</td>\n",
       "      <td>16</td>\n",
       "      <td>100</td>\n",
       "      <td>256</td>\n",
       "      <td>0.3838</td>\n",
       "      <td>0.4138</td>\n",
       "      <td>0.4118</td>\n",
       "      <td>0.4236</td>\n",
       "      <td>0.4346</td>\n",
       "      <td>0.4474</td>\n",
       "      <td>...</td>\n",
       "      <td>0.376</td>\n",
       "      <td>0.402</td>\n",
       "      <td>0.404</td>\n",
       "      <td>0.427</td>\n",
       "      <td>0.434</td>\n",
       "      <td>0.459</td>\n",
       "      <td>0.452</td>\n",
       "      <td>0.444</td>\n",
       "      <td>0.447</td>\n",
       "      <td>0.455</td>\n",
       "    </tr>\n",
       "    <tr>\n",
       "      <th>8</th>\n",
       "      <td>10</td>\n",
       "      <td>16</td>\n",
       "      <td>100</td>\n",
       "      <td>512</td>\n",
       "      <td>0.3524</td>\n",
       "      <td>0.4066</td>\n",
       "      <td>0.4184</td>\n",
       "      <td>0.4254</td>\n",
       "      <td>0.4252</td>\n",
       "      <td>0.4328</td>\n",
       "      <td>...</td>\n",
       "      <td>0.408</td>\n",
       "      <td>0.413</td>\n",
       "      <td>0.418</td>\n",
       "      <td>0.419</td>\n",
       "      <td>0.443</td>\n",
       "      <td>0.425</td>\n",
       "      <td>0.429</td>\n",
       "      <td>0.449</td>\n",
       "      <td>0.451</td>\n",
       "      <td>0.452</td>\n",
       "    </tr>\n",
       "  </tbody>\n",
       "</table>\n",
       "<p>9 rows × 24 columns</p>\n",
       "</div>"
      ],
      "text/plain": [
       "   0   1    2    3       4       5       6       7       8       9   ...    \\\n",
       "0  10  16    3   64  0.3992  0.4148  0.4294  0.4364  0.4504  0.4546  ...     \n",
       "1  10  16    3  256  0.3896  0.4146  0.4220  0.4250  0.4326  0.4316  ...     \n",
       "2  10  16    3  512  0.3494  0.3764  0.3960  0.4052  0.4004  0.4100  ...     \n",
       "3  10  16   10   64  0.3676  0.4274  0.4500  0.4516  0.4584  0.4548  ...     \n",
       "4  10  16   10  256  0.3458  0.4178  0.4272  0.4336  0.4464  0.4444  ...     \n",
       "5  10  16   10  512  0.3492  0.3872  0.4156  0.4326  0.4358  0.4342  ...     \n",
       "6  10  16  100   64  0.3862  0.4344  0.4514  0.4462  0.4522  0.4478  ...     \n",
       "7  10  16  100  256  0.3838  0.4138  0.4118  0.4236  0.4346  0.4474  ...     \n",
       "8  10  16  100  512  0.3524  0.4066  0.4184  0.4254  0.4252  0.4328  ...     \n",
       "\n",
       "      14     15     16     17     18     19     20     21     22     23  \n",
       "0  0.389  0.403  0.396  0.430  0.444  0.449  0.445  0.442  0.444  0.440  \n",
       "1  0.392  0.410  0.415  0.426  0.429  0.439  0.444  0.448  0.442  0.441  \n",
       "2  0.360  0.366  0.372  0.379  0.382  0.387  0.392  0.391  0.389  0.397  \n",
       "3  0.434  0.449  0.443  0.443  0.446  0.444  0.449  0.449  0.441  0.450  \n",
       "4  0.384  0.428  0.441  0.440  0.438  0.442  0.455  0.448  0.445  0.442  \n",
       "5  0.376  0.412  0.441  0.438  0.445  0.445  0.447  0.446  0.455  0.453  \n",
       "6  0.407  0.442  0.446  0.453  0.461  0.446  0.456  0.442  0.437  0.456  \n",
       "7  0.376  0.402  0.404  0.427  0.434  0.459  0.452  0.444  0.447  0.455  \n",
       "8  0.408  0.413  0.418  0.419  0.443  0.425  0.429  0.449  0.451  0.452  \n",
       "\n",
       "[9 rows x 24 columns]"
      ]
     },
     "execution_count": 47,
     "metadata": {},
     "output_type": "execute_result"
    }
   ],
   "source": [
    "pd.DataFrame(res)"
   ]
  },
  {
   "cell_type": "code",
   "execution_count": 36,
   "metadata": {},
   "outputs": [
    {
     "data": {
      "text/plain": [
       "array([[0., 0., 1.],\n",
       "       [0., 1., 0.],\n",
       "       [0., 0., 1.],\n",
       "       ...,\n",
       "       [1., 0., 0.],\n",
       "       [0., 1., 0.],\n",
       "       [0., 0., 0.]], dtype=float32)"
      ]
     },
     "execution_count": 36,
     "metadata": {},
     "output_type": "execute_result"
    }
   ],
   "source": [
    "model.predict(history.validation_data[0]).round(0)"
   ]
  },
  {
   "cell_type": "code",
   "execution_count": 42,
   "metadata": {},
   "outputs": [
    {
     "data": {
      "text/plain": [
       "{'acc': [0.4062000021934509,\n",
       "  0.5275999977111816,\n",
       "  0.5857999985694885,\n",
       "  0.6772000019073486,\n",
       "  0.7309999984741211,\n",
       "  0.7759999981880188,\n",
       "  0.7929999979972839,\n",
       "  0.8005999985694885,\n",
       "  0.8136000009536744,\n",
       "  0.8380000006675721],\n",
       " 'loss': [1.0746020488739014,\n",
       "  0.9884465896606446,\n",
       "  0.8958369854927063,\n",
       "  0.7637522832870484,\n",
       "  0.6406505021095276,\n",
       "  0.5588097978591919,\n",
       "  0.5105084029197693,\n",
       "  0.48304083008766174,\n",
       "  0.46273315505981444,\n",
       "  0.43337293162345886],\n",
       " 'val_acc': [0.5220000109672547,\n",
       "  0.5660000066757203,\n",
       "  0.6179999914169312,\n",
       "  0.672000009059906,\n",
       "  0.7129999985694885,\n",
       "  0.7319999976158142,\n",
       "  0.7400000061988831,\n",
       "  0.7509999952316284,\n",
       "  0.7349999890327453,\n",
       "  0.7570000038146972],\n",
       " 'val_loss': [1.0360965976715089,\n",
       "  0.9714739093780518,\n",
       "  0.8775711927413941,\n",
       "  0.7391939158439637,\n",
       "  0.678727029800415,\n",
       "  0.6424490041732788,\n",
       "  0.6495523729324341,\n",
       "  0.6502507195472718,\n",
       "  0.6688855495452881,\n",
       "  0.7119390687942505]}"
      ]
     },
     "execution_count": 42,
     "metadata": {},
     "output_type": "execute_result"
    }
   ],
   "source": [
    "history.history"
   ]
  },
  {
   "cell_type": "code",
   "execution_count": null,
   "metadata": {
    "collapsed": true
   },
   "outputs": [],
   "source": []
  }
 ],
 "metadata": {
  "kernelspec": {
   "display_name": "Python 3",
   "language": "python",
   "name": "python3"
  },
  "language_info": {
   "codemirror_mode": {
    "name": "ipython",
    "version": 3
   },
   "file_extension": ".py",
   "mimetype": "text/x-python",
   "name": "python",
   "nbconvert_exporter": "python",
   "pygments_lexer": "ipython3",
   "version": "3.6.1"
  }
 },
 "nbformat": 4,
 "nbformat_minor": 2
}
